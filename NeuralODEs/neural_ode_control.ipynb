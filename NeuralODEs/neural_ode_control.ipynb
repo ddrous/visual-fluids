{
 "cells": [
  {
   "cell_type": "code",
   "execution_count": 20,
   "metadata": {},
   "outputs": [],
   "source": [
    "import time\n",
    "\n",
    "import diffrax\n",
    "import equinox as eqx  # https://github.com/patrick-kidger/equinox\n",
    "import jax\n",
    "import jax.nn as jnn\n",
    "import jax.numpy as jnp\n",
    "import jax.random as jrandom\n",
    "import matplotlib.pyplot as plt\n",
    "import optax  # https://github.com/deepmind/optax\n",
    "from clu import parameter_overview"
   ]
  },
  {
   "cell_type": "code",
   "execution_count": 13,
   "metadata": {},
   "outputs": [],
   "source": [
    "class Func(eqx.Module):\n",
    "    mlp: eqx.nn.MLP\n",
    "\n",
    "    def __init__(self, data_size, width_size, depth, *args, key, **kwargs):\n",
    "        super().__init__(**kwargs)\n",
    "        self.mlp = eqx.nn.MLP(\n",
    "            in_size=data_size,\n",
    "            out_size=data_size,\n",
    "            width_size=width_size,\n",
    "            depth=depth,\n",
    "            activation=jnn.softplus,\n",
    "            key=key,\n",
    "        )\n",
    "\n",
    "    def __call__(self, t, y, *args):\n",
    "        return self.mlp(y)"
   ]
  },
  {
   "cell_type": "code",
   "execution_count": 37,
   "metadata": {},
   "outputs": [
    {
     "name": "stdout",
     "output_type": "stream",
     "text": [
      "Behold the control term: \n",
      "----------------------- \n",
      " Func(\n",
      "  mlp=MLP(\n",
      "    layers=[\n",
      "      Linear(\n",
      "        weight=f32[4,1],\n",
      "        bias=f32[4],\n",
      "        in_features=1,\n",
      "        out_features=4,\n",
      "        use_bias=True\n",
      "      ),\n",
      "      Linear(\n",
      "        weight=f32[1,4],\n",
      "        bias=f32[1],\n",
      "        in_features=4,\n",
      "        out_features=1,\n",
      "        use_bias=True\n",
      "      )\n",
      "    ],\n",
      "    activation=<wrapped function softplus>,\n",
      "    final_activation=<function _identity>,\n",
      "    in_size=1,\n",
      "    out_size=1,\n",
      "    width_size=4,\n",
      "    depth=1\n",
      "  )\n",
      ")\n",
      "\n",
      "Testing the control term: \n",
      "----------------------- \n",
      " [0.0610788]\n"
     ]
    }
   ],
   "source": [
    "data_size = 1\n",
    "width_size = 4\n",
    "depth = 1\n",
    "key = jax.random.PRNGKey(20)\n",
    "\n",
    "control = Func(data_size, width_size, depth, key=key)\n",
    "print(\"Behold the control term: \\n----------------------- \\n\", control)\n",
    "\n",
    "T = 10\n",
    "N = 1000\n",
    "ts = jnp.linspace(0, 10, N+1)\n",
    "y0 = jnp.array([1])\n",
    "\n",
    "print(\"\\nTesting the control term: \\n----------------------- \\n\", control(t, y0))"
   ]
  },
  {
   "cell_type": "code",
   "execution_count": 38,
   "metadata": {},
   "outputs": [],
   "source": [
    "class NeuralODE(eqx.Module):\n",
    "    func: Func\n",
    "\n",
    "    def __init__(self, data_size, width_size, depth, *args, key, **kwargs):\n",
    "        super().__init__(**kwargs)\n",
    "        self.func = Func(data_size, width_size, depth, key=key)\n",
    "\n",
    "    def __call__(self, ts, y0):\n",
    "        solution = diffrax.diffeqsolve(\n",
    "            diffrax.ODETerm(self.func),\n",
    "            diffrax.Tsit5(),\n",
    "            t0=ts[0],\n",
    "            t1=ts[-1],\n",
    "            dt0=ts[1] - ts[0],\n",
    "            y0=y0,\n",
    "            stepsize_controller=diffrax.PIDController(rtol=1e-3, atol=1e-6),\n",
    "            saveat=diffrax.SaveAt(ts=ts),\n",
    "        )\n",
    "        return solution.ys"
   ]
  },
  {
   "cell_type": "code",
   "execution_count": 39,
   "metadata": {},
   "outputs": [
    {
     "data": {
      "text/plain": [
       "DeviceArray([[1.       ],\n",
       "             [1.0006104],\n",
       "             [1.0012197],\n",
       "             ...,\n",
       "             [1.3250225],\n",
       "             [1.3251774],\n",
       "             [1.325332 ]], dtype=float32, weak_type=True)"
      ]
     },
     "execution_count": 39,
     "metadata": {},
     "output_type": "execute_result"
    }
   ],
   "source": [
    "neural_ode = NeuralODE(data_size, width_size, depth, key=key)\n",
    "neural_ode(ts, y0)"
   ]
  },
  {
   "cell_type": "code",
   "execution_count": null,
   "metadata": {},
   "outputs": [],
   "source": []
  }
 ],
 "metadata": {
  "kernelspec": {
   "display_name": "jaxenv",
   "language": "python",
   "name": "python3"
  },
  "language_info": {
   "codemirror_mode": {
    "name": "ipython",
    "version": 3
   },
   "file_extension": ".py",
   "mimetype": "text/x-python",
   "name": "python",
   "nbconvert_exporter": "python",
   "pygments_lexer": "ipython3",
   "version": "3.10.8"
  },
  "orig_nbformat": 4,
  "vscode": {
   "interpreter": {
    "hash": "8172ebf40a1b5495b14df1ebdc40c339972f6d826997aae164f4bf169121d865"
   }
  }
 },
 "nbformat": 4,
 "nbformat_minor": 2
}
