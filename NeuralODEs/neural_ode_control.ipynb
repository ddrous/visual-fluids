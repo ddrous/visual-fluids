{
 "cells": [
  {
   "attachments": {},
   "cell_type": "markdown",
   "metadata": {},
   "source": [
    "## Simple Control Problem with Neural ODE"
   ]
  },
  {
   "cell_type": "code",
   "execution_count": 14,
   "metadata": {},
   "outputs": [],
   "source": [
    "%reset -f"
   ]
  },
  {
   "cell_type": "code",
   "execution_count": 15,
   "metadata": {},
   "outputs": [],
   "source": [
    "import diffrax\n",
    "import equinox as eqx  # https://github.com/patrick-kidger/equinox\n",
    "import jax\n",
    "import jax.numpy as jnp\n",
    "import optax  # https://github.com/deepmind/optax\n",
    "\n",
    "import time\n",
    "from utils import *;"
   ]
  },
  {
   "attachments": {},
   "cell_type": "markdown",
   "metadata": {},
   "source": [
    "For some reason, GPU is really slow on this task, so let's use CPU"
   ]
  },
  {
   "cell_type": "code",
   "execution_count": 16,
   "metadata": {},
   "outputs": [
    {
     "name": "stdout",
     "output_type": "stream",
     "text": [
      "TFRT_CPU_0\n"
     ]
    }
   ],
   "source": [
    "jax.config.update('jax_platform_name', 'cpu')\n",
    "print(jax.numpy.ones(3).device()) # should be TFRT_CPU_0"
   ]
  },
  {
   "attachments": {},
   "cell_type": "markdown",
   "metadata": {},
   "source": [
    "We are solving the optimal control problem:\n",
    "\\begin{align}\n",
    "    u^*(t) = \\argmin_{u(t)}{J(u)}\n",
    "\\end{align}\n",
    "- with $J(u) = \\frac{1}{2}\\left( y(T) - y(0) \\right)^2$ (the energy cost is not yet considered)\n",
    "- subject to the ODE $y'(t) = u(t)$, \n",
    "- terminal states $y(0) = y_0$, and $y(T) = y^*$\n",
    "\n",
    "We want to lean a near-optimal control $\\hat u$ by parametrising it via a MLP."
   ]
  },
  {
   "cell_type": "code",
   "execution_count": 17,
   "metadata": {},
   "outputs": [],
   "source": [
    "class Func(eqx.Module):\n",
    "    mlp: eqx.nn.MLP\n",
    "\n",
    "    def __init__(self, data_size, width_size, depth, *args, key, **kwargs):\n",
    "        super().__init__(**kwargs)\n",
    "        self.mlp = eqx.nn.MLP(\n",
    "            in_size=data_size,\n",
    "            out_size=data_size,\n",
    "            width_size=width_size,\n",
    "            depth=depth,\n",
    "            activation=jax.nn.softplus,\n",
    "            key=key,\n",
    "        )\n",
    "\n",
    "    def __call__(self, t, y, *args):\n",
    "        t_vec = jnp.array([t])  ## Input to the MLP needs to be a vector\n",
    "        return self.mlp(t_vec)"
   ]
  },
  {
   "cell_type": "code",
   "execution_count": 18,
   "metadata": {},
   "outputs": [
    {
     "name": "stdout",
     "output_type": "stream",
     "text": [
      "ts [0. 1.]\n",
      "\n",
      "Testing the control term: \n",
      "----------------------- \n",
      " [[-0.06327683  0.01655005 -0.05999434 -0.03409043]]\n"
     ]
    }
   ],
   "source": [
    "T = 1.0\n",
    "N = 2\n",
    "\n",
    "data_size = 1\n",
    "width_size = 4\n",
    "depth = 2\n",
    "seed = 3440\n",
    "key = jax.random.PRNGKey(seed)\n",
    "\n",
    "control = Func(data_size, width_size, depth, key=key)\n",
    "# print(\"Behold the control term: \\n----------------------- \\n\", control)\n",
    "\n",
    "ts = jnp.linspace(0, T, N)\n",
    "print(\"ts\", ts)\n",
    "y0 = jnp.array([1])\n",
    "\n",
    "print(\"\\nTesting the control term: \\n----------------------- \\n\", control(jnp.array([ts[0]]), y0))"
   ]
  },
  {
   "attachments": {},
   "cell_type": "markdown",
   "metadata": {},
   "source": [
    "We now deffine the control problem using the Neural ODE formulation."
   ]
  },
  {
   "cell_type": "code",
   "execution_count": 19,
   "metadata": {},
   "outputs": [],
   "source": [
    "class NeuralODE(eqx.Module):\n",
    "    u: Func\n",
    "\n",
    "    def __init__(self, data_size, width_size, depth, *args, key, **kwargs):\n",
    "        super().__init__(**kwargs)\n",
    "        self.u = Func(data_size, width_size, depth, key=key)\n",
    "        # self.u = Func(11, width_size, depth, key=key)\n",
    "\n",
    "    def __call__(self, ts, y0):\n",
    "        solution = diffrax.diffeqsolve(\n",
    "            diffrax.ODETerm(self.u),\n",
    "            diffrax.Tsit5(),\n",
    "            t0=ts[0],\n",
    "            t1=ts[-1],\n",
    "            dt0=(ts[1] - ts[0])/1000,\n",
    "            y0=y0,\n",
    "            stepsize_controller=diffrax.PIDController(rtol=1e-3, atol=1e-6),\n",
    "            saveat=diffrax.SaveAt(ts=ts),\n",
    "        )\n",
    "        return solution.ys"
   ]
  },
  {
   "cell_type": "code",
   "execution_count": 20,
   "metadata": {},
   "outputs": [
    {
     "data": {
      "text/plain": [
       "DeviceArray([[1.       ],\n",
       "             [1.0325807]], dtype=float32, weak_type=True)"
      ]
     },
     "execution_count": 20,
     "metadata": {},
     "output_type": "execute_result"
    }
   ],
   "source": [
    "model = NeuralODE(data_size, width_size, depth, key=key)\n",
    "model(ts, y0)"
   ]
  },
  {
   "attachments": {},
   "cell_type": "markdown",
   "metadata": {},
   "source": [
    "Given the target state $y^*$, we can randomly construct training data."
   ]
  },
  {
   "cell_type": "code",
   "execution_count": 21,
   "metadata": {},
   "outputs": [],
   "source": [
    "ystar = 2.0 ## target state\n",
    "\n",
    "def _get_data(ts, *args, key):\n",
    "    y0 = jax.random.uniform(key, (1,), minval=-0.6, maxval=1)\n",
    "    yT = jnp.array([ystar])\n",
    "    return jnp.stack([y0, yT], axis=0)     ## data_size is 1\n",
    "\n",
    "def get_data(dataset_size, *args, key):\n",
    "    ts = jnp.linspace(0, T, N)\n",
    "    key = jax.random.split(key, dataset_size)\n",
    "    ys = jax.vmap(lambda key: _get_data(ts, key=key))(key)\n",
    "    return ts, ys"
   ]
  },
  {
   "cell_type": "code",
   "execution_count": 22,
   "metadata": {},
   "outputs": [],
   "source": [
    "def dataloader(array, batch_size, *args, key):\n",
    "    dataset_size = array.shape[0]\n",
    "    indices = jnp.arange(dataset_size)\n",
    "    perm = jax.random.permutation(key, indices)\n",
    "    start = 0\n",
    "    end = batch_size\n",
    "    while end < dataset_size:\n",
    "        batch_perm = perm[start:end]\n",
    "        yield array[batch_perm]\n",
    "        start = end\n",
    "        end = start + batch_size"
   ]
  },
  {
   "cell_type": "code",
   "execution_count": 23,
   "metadata": {},
   "outputs": [
    {
     "name": "stdout",
     "output_type": "stream",
     "text": [
      "[[[-0.5589571 ]\n",
      "  [ 2.        ]]\n",
      "\n",
      " [[ 0.5199953 ]\n",
      "  [ 2.        ]]\n",
      "\n",
      " [[-0.00660593]\n",
      "  [ 2.        ]]\n",
      "\n",
      " [[-0.4064253 ]\n",
      "  [ 2.        ]]\n",
      "\n",
      " [[ 0.38700294]\n",
      "  [ 2.        ]]\n",
      "\n",
      " [[ 0.42375183]\n",
      "  [ 2.        ]]\n",
      "\n",
      " [[ 0.57775456]\n",
      "  [ 2.        ]]\n",
      "\n",
      " [[-0.12456877]\n",
      "  [ 2.        ]]\n",
      "\n",
      " [[-0.4055838 ]\n",
      "  [ 2.        ]]\n",
      "\n",
      " [[ 0.6944105 ]\n",
      "  [ 2.        ]]\n",
      "\n",
      " [[-0.3185152 ]\n",
      "  [ 2.        ]]\n",
      "\n",
      " [[-0.22884619]\n",
      "  [ 2.        ]]\n",
      "\n",
      " [[ 0.7775795 ]\n",
      "  [ 2.        ]]\n",
      "\n",
      " [[ 0.8481293 ]\n",
      "  [ 2.        ]]\n",
      "\n",
      " [[ 0.08992632]\n",
      "  [ 2.        ]]\n",
      "\n",
      " [[ 0.8857601 ]\n",
      "  [ 2.        ]]\n",
      "\n",
      " [[ 0.6897484 ]\n",
      "  [ 2.        ]]\n",
      "\n",
      " [[ 0.30989227]\n",
      "  [ 2.        ]]\n",
      "\n",
      " [[ 0.5264921 ]\n",
      "  [ 2.        ]]\n",
      "\n",
      " [[ 0.970163  ]\n",
      "  [ 2.        ]]\n",
      "\n",
      " [[ 0.4143997 ]\n",
      "  [ 2.        ]]\n",
      "\n",
      " [[ 0.71766835]\n",
      "  [ 2.        ]]\n",
      "\n",
      " [[ 0.9217262 ]\n",
      "  [ 2.        ]]\n",
      "\n",
      " [[ 0.6059452 ]\n",
      "  [ 2.        ]]\n",
      "\n",
      " [[ 0.43462867]\n",
      "  [ 2.        ]]\n",
      "\n",
      " [[ 0.983744  ]\n",
      "  [ 2.        ]]\n",
      "\n",
      " [[ 0.02446593]\n",
      "  [ 2.        ]]\n",
      "\n",
      " [[ 0.13332805]\n",
      "  [ 2.        ]]\n",
      "\n",
      " [[ 0.81393355]\n",
      "  [ 2.        ]]\n",
      "\n",
      " [[ 0.5139356 ]\n",
      "  [ 2.        ]]\n",
      "\n",
      " [[ 0.6705179 ]\n",
      "  [ 2.        ]]\n",
      "\n",
      " [[ 0.61587733]\n",
      "  [ 2.        ]]]\n"
     ]
    }
   ],
   "source": [
    "dataset_size = 256\n",
    "batch_size = 32\n",
    "data_key, loader_key = jax.random.split(key, 2)\n",
    "\n",
    "_, ys = get_data(dataset_size, key=data_key)\n",
    "train_loader = dataloader(ys, batch_size, key=loader_key)\n",
    "\n",
    "## Test the dataloader\n",
    "for i, batch in enumerate(train_loader):\n",
    "    if i < 1: print(batch)"
   ]
  },
  {
   "cell_type": "code",
   "execution_count": 24,
   "metadata": {},
   "outputs": [],
   "source": [
    "lr = 3e-3\n",
    "epochs = 500\n",
    "\n",
    "optim = optax.adabelief(lr)\n",
    "opt_state = optim.init(eqx.filter(model, eqx.is_inexact_array))\n",
    "\n",
    "@eqx.filter_value_and_grad\n",
    "def grad_loss(model, ti, yi):\n",
    "    y_pred = jax.vmap(model, in_axes=(None, 0))(ti, yi[:, 0])\n",
    "    return jnp.mean(0.5 * (yi[-1] - y_pred[-1]) ** 2)\n",
    "\n",
    "@eqx.filter_jit\n",
    "def make_step(ti, yi, model, opt_state):\n",
    "    loss, grads = grad_loss(model, ti, yi)\n",
    "    updates, opt_state = optim.update(grads, opt_state)\n",
    "    model = eqx.apply_updates(model, updates)\n",
    "    return loss, model, opt_state"
   ]
  },
  {
   "cell_type": "code",
   "execution_count": 25,
   "metadata": {},
   "outputs": [
    {
     "name": "stdout",
     "output_type": "stream",
     "text": [
      "Step: 100, Loss: 0.043251678347587585, Computation time: 0.002256631851196289\n",
      "Step: 200, Loss: 0.07030516117811203, Computation time: 0.002413034439086914\n",
      "Step: 300, Loss: 0.05752421170473099, Computation time: 0.0027990341186523438\n",
      "Step: 400, Loss: 0.09884238243103027, Computation time: 0.002936124801635742\n",
      "Step: 500, Loss: 0.008309721946716309, Computation time: 0.0033426284790039062\n",
      "Step: 600, Loss: 0.009632126428186893, Computation time: 0.0021207332611083984\n",
      "Step: 700, Loss: 9.015766408992931e-05, Computation time: 0.0023856163024902344\n",
      "Step: 800, Loss: 0.03492043539881706, Computation time: 0.0043675899505615234\n",
      "Step: 900, Loss: 0.07035033404827118, Computation time: 0.0034744739532470703\n",
      "Step: 1000, Loss: 0.05752215534448624, Computation time: 0.002362966537475586\n",
      "Step: 1100, Loss: 0.09885513037443161, Computation time: 0.002402067184448242\n",
      "Step: 1200, Loss: 0.008310808800160885, Computation time: 0.001898050308227539\n",
      "Step: 1300, Loss: 0.009632676839828491, Computation time: 0.002281665802001953\n",
      "Step: 1400, Loss: 9.025730105349794e-05, Computation time: 0.002687692642211914\n",
      "Step: 1500, Loss: 0.03492257371544838, Computation time: 0.004261970520019531\n",
      "Step: 1600, Loss: 0.07034992426633835, Computation time: 0.003619670867919922\n",
      "Step: 1700, Loss: 0.05752112343907356, Computation time: 0.002882242202758789\n",
      "Step: 1800, Loss: 0.09885475784540176, Computation time: 0.003356456756591797\n",
      "Step: 1900, Loss: 0.008311090990900993, Computation time: 0.0032684803009033203\n",
      "Step: 2000, Loss: 0.009631728753447533, Computation time: 0.003286123275756836\n",
      "Step: 2100, Loss: 9.025503823067993e-05, Computation time: 0.0031325817108154297\n",
      "Step: 2200, Loss: 0.034920789301395416, Computation time: 0.002643585205078125\n",
      "Step: 2300, Loss: 0.07034625858068466, Computation time: 0.0026140213012695312\n",
      "Step: 2400, Loss: 0.05751872435212135, Computation time: 0.0020751953125\n",
      "Step: 2500, Loss: 0.09884943068027496, Computation time: 0.0034630298614501953\n",
      "Step: 2600, Loss: 0.008310939185321331, Computation time: 0.004764080047607422\n",
      "Step: 2700, Loss: 0.009630067273974419, Computation time: 0.003530263900756836\n",
      "Step: 2800, Loss: 9.020068682730198e-05, Computation time: 0.0019578933715820312\n",
      "Step: 2900, Loss: 0.034917671233415604, Computation time: 0.0019800662994384766\n",
      "Step: 3000, Loss: 0.07034201920032501, Computation time: 0.0033576488494873047\n",
      "Step: 3100, Loss: 0.05751529335975647, Computation time: 0.003030538558959961\n",
      "Step: 3200, Loss: 0.09884238243103027, Computation time: 0.0023775100708007812\n",
      "Step: 3300, Loss: 0.008310678415000439, Computation time: 0.0020797252655029297\n",
      "Step: 3400, Loss: 0.009628032334148884, Computation time: 0.002469301223754883\n",
      "Step: 3500, Loss: 9.014182433020324e-05, Computation time: 0.0032193660736083984\n"
     ]
    }
   ],
   "source": [
    "step = 0\n",
    "for epoch in range(epochs):\n",
    "    for yi in dataloader(ys, batch_size, key=loader_key):\n",
    "        start = time.time()\n",
    "        loss, model, opt_state = make_step(ts, yi, model, opt_state)\n",
    "        end = time.time()\n",
    "        step += 1\n",
    "        if (step % 100) == 0:\n",
    "            print(f\"Step: {step}, Loss: {loss}, Computation time: {end - start}\")"
   ]
  },
  {
   "attachments": {},
   "cell_type": "markdown",
   "metadata": {},
   "source": [
    "Let's plot the results, and compare them to the known constant optimal control:\n",
    "\\begin{align}\n",
    "u^*(t) = \\frac{y^* - y_0}{T}\n",
    "\\end{align}"
   ]
  },
  {
   "cell_type": "code",
   "execution_count": 26,
   "metadata": {},
   "outputs": [
    {
     "data": {
      "image/png": "[encoded data removed]",
      "text/plain": [
       "<Figure size 1600x500 with 2 Axes>"
      ]
     },
     "metadata": {},
     "output_type": "display_data"
    }
   ],
   "source": [
    "test_key = jax.random.PRNGKey(int(time.time()))\n",
    "test_point = int(jax.random.uniform(key=test_key, minval=0, maxval=dataset_size))\n",
    "\n",
    "ytrue = ys[test_point, :]\n",
    "ypred = model(ts, ys[test_point, 0])[:]\n",
    "\n",
    "utrue = jnp.ones_like(ytrue) * (ystar-ytrue[0])/T\n",
    "upred = [model.u(ts[0], ypred[0]), model.u(ts[1], ypred[1])]\n",
    "\n",
    "fig, (ax1, ax2) = plt.subplots(1, 2, figsize=(8*2, 5))\n",
    "ax1 = plot(ts, ytrue, c=\"dodgerblue\", label=\"Label\", title=\"Trajectories\", x_label=r\"$t$\", y_label=r\"$y$\", ax=ax1)\n",
    "ax1 = plot(ts, ypred, \"o-\", c=\"crimson\", label=\"Model\", ax=ax1)\n",
    "\n",
    "ax2 = plot(ts, utrue, c=\"dodgerblue\", label=\"Label (Optimal)\", title=\"Controls\", x_label=r\"$t$\", y_label=r\"$u$\", ax=ax2)\n",
    "ax2 = plot(ts, upred, \"o-\", c=\"crimson\", label=\"Model\", ax=ax2)"
   ]
  }
 ],
 "metadata": {
  "kernelspec": {
   "display_name": "jaxenv",
   "language": "python",
   "name": "python3"
  },
  "language_info": {
   "codemirror_mode": {
    "name": "ipython",
    "version": 3
   },
   "file_extension": ".py",
   "mimetype": "text/x-python",
   "name": "python",
   "nbconvert_exporter": "python",
   "pygments_lexer": "ipython3",
   "version": "3.9.15"
  },
  "orig_nbformat": 4,
  "vscode": {
   "interpreter": {
    "hash": "075710b6f5b19458306a4e9822ddfe61641ef7cace85254f009959072a1d7749"
   }
  }
 },
 "nbformat": 4,
 "nbformat_minor": 2
}
