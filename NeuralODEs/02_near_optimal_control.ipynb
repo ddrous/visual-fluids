{
 "cells": [
  {
   "attachments": {},
   "cell_type": "markdown",
   "metadata": {},
   "source": [
    "## Simple Control Problem with Neural ODE"
   ]
  },
  {
   "cell_type": "code",
   "execution_count": 1,
   "metadata": {},
   "outputs": [],
   "source": [
    "%reset -f"
   ]
  },
  {
   "cell_type": "code",
   "execution_count": 2,
   "metadata": {},
   "outputs": [
    {
     "data": {
      "text/plain": [
       "<Figure size 640x480 with 0 Axes>"
      ]
     },
     "metadata": {},
     "output_type": "display_data"
    }
   ],
   "source": [
    "import diffrax\n",
    "import equinox as eqx  # https://github.com/patrick-kidger/equinox\n",
    "import jax\n",
    "import jax.numpy as jnp\n",
    "import optax  # https://github.com/deepmind/optax\n",
    "\n",
    "import time\n",
    "from utils import *;"
   ]
  },
  {
   "attachments": {},
   "cell_type": "markdown",
   "metadata": {},
   "source": [
    "For some reason, GPU is really slow on this task, so let's use CPU"
   ]
  },
  {
   "cell_type": "code",
   "execution_count": 3,
   "metadata": {},
   "outputs": [
    {
     "name": "stdout",
     "output_type": "stream",
     "text": [
      "TFRT_CPU_0\n"
     ]
    }
   ],
   "source": [
    "jax.config.update('jax_platform_name', 'cpu')\n",
    "print(jax.numpy.ones(3).device()) # should be TFRT_CPU_0"
   ]
  },
  {
   "attachments": {},
   "cell_type": "markdown",
   "metadata": {},
   "source": [
    "We are solving the optimal control problem:\n",
    "\\begin{align}\n",
    "    u^*(t) = \\argmin_{u(t)}{J(u)}\n",
    "\\end{align}\n",
    "- with $J(u) = \\frac{1}{2}\\left( y(T) - y^* \\right)^2$ (the energy cost is not yet considered)\n",
    "- subject to the ODE $y'(t) = u(t)$, \n",
    "- terminal states $y(0) = y_0$, and $y(T) \\approx y^*$\n",
    "\n",
    "We want to lean a near-optimal control $\\hat u$ by parametrising it via a MLP; or even better, an even simpler linear layer."
   ]
  },
  {
   "cell_type": "code",
   "execution_count": 4,
   "metadata": {},
   "outputs": [],
   "source": [
    "class Func(eqx.Module):\n",
    "    mlp: eqx.nn.MLP\n",
    "    # weight: jax.numpy.ndarray\n",
    "    # bias: jax.numpy.ndarray\n",
    "\n",
    "    def __init__(self, data_size, width_size, depth, *args, key, **kwargs):\n",
    "        super().__init__(**kwargs)\n",
    "        self.mlp = eqx.nn.MLP(\n",
    "            in_size=data_size+1,        ## Input is t and y0\n",
    "            out_size=data_size,         ## Output is yT\n",
    "            width_size=width_size,\n",
    "            depth=depth,\n",
    "            # activation=jax.nn.softplus,\n",
    "            activation=lambda x:x,      ## No activation at all\n",
    "            key=key,\n",
    "        )\n",
    "\n",
    "        ## Initialise these weights close to OC\n",
    "        # self.weight = jnp.array([[0., -1.]]) + jax.random.normal(key, (2,))\n",
    "        # self.bias = jnp.array([1.]) + jax.random.normal(key, (1,))\n",
    "\n",
    "    def __call__(self, t, y, *args):\n",
    "        input_vec = jnp.array([t, args[0][0]])  ## args[0] is the y0 PyTree (of size 1) - input_vec must be a 1D array to avoid broadcasting\n",
    "        return self.mlp(input_vec)\n",
    "        # return self.weight @ input_vec + self.bias\n",
    "        # return self.weight @ input_vec"
   ]
  },
  {
   "cell_type": "code",
   "execution_count": 5,
   "metadata": {},
   "outputs": [
    {
     "name": "stdout",
     "output_type": "stream",
     "text": [
      "Behold the control term: \n",
      "----------------------- \n",
      " Func(\n",
      "  mlp=MLP(\n",
      "    layers=[\n",
      "      Linear(\n",
      "        weight=f32[1,2],\n",
      "        bias=f32[1],\n",
      "        in_features=2,\n",
      "        out_features=1,\n",
      "        use_bias=True\n",
      "      )\n",
      "    ],\n",
      "    activation=<function <lambda>>,\n",
      "    final_activation=<function _identity>,\n",
      "    in_size=2,\n",
      "    out_size=1,\n",
      "    width_size=1,\n",
      "    depth=0\n",
      "  )\n",
      ")\n",
      "\n",
      "Testing the control term: \n",
      "----------------------- \n",
      " [0.31756774]\n"
     ]
    }
   ],
   "source": [
    "T = 1.0\n",
    "N = 200\n",
    "\n",
    "data_size = 1\n",
    "width_size = 1\n",
    "depth = 0\n",
    "seed = int(time.time())\n",
    "# seed = 3440\n",
    "key = jax.random.PRNGKey(seed)\n",
    "\n",
    "test_control = Func(data_size, width_size, depth, key=key)\n",
    "print(\"Behold the control term: \\n----------------------- \\n\", test_control)\n",
    "# print(test_control.weight)\n",
    "# print(test_control.bias)\n",
    "\n",
    "ts = jnp.linspace(0, T, N)\n",
    "y0 = jnp.array([1.0])\n",
    "\n",
    "print(\"\\nTesting the control term: \\n----------------------- \\n\", test_control(ts[0], y0, y0))"
   ]
  },
  {
   "attachments": {},
   "cell_type": "markdown",
   "metadata": {},
   "source": [
    "We now deffine the control problem using the Neural ODE formulation."
   ]
  },
  {
   "cell_type": "code",
   "execution_count": 6,
   "metadata": {},
   "outputs": [],
   "source": [
    "class NeuralODE(eqx.Module):\n",
    "    u: Func\n",
    "\n",
    "    def __init__(self, data_size, width_size, depth, *args, key, **kwargs):\n",
    "        super().__init__(**kwargs)\n",
    "        self.u = Func(data_size, width_size, depth, key=key)\n",
    "\n",
    "    def __call__(self, ts, y0):\n",
    "        solution = diffrax.diffeqsolve(\n",
    "            diffrax.ODETerm(self.u),\n",
    "            diffrax.Tsit5(),\n",
    "            t0=ts[0],\n",
    "            t1=ts[-1],\n",
    "            dt0=ts[1]-ts[0],\n",
    "            y0=y0,\n",
    "            args=y0,\n",
    "            stepsize_controller=diffrax.PIDController(rtol=1e-3, atol=1e-6),\n",
    "            saveat=diffrax.SaveAt(ts=ts),\n",
    "        )\n",
    "        return solution.ys"
   ]
  },
  {
   "cell_type": "code",
   "execution_count": 7,
   "metadata": {},
   "outputs": [
    {
     "data": {
      "text/plain": [
       "DeviceArray([[1.       ],\n",
       "             [1.0016005],\n",
       "             [1.0032105],\n",
       "             [1.0048299],\n",
       "             [1.0064588],\n",
       "             [1.0080972],\n",
       "             [1.0097449],\n",
       "             [1.0114021],\n",
       "             [1.0130688],\n",
       "             [1.014745 ],\n",
       "             [1.0164305],\n",
       "             [1.0181255],\n",
       "             [1.01983  ],\n",
       "             [1.0215439],\n",
       "             [1.0232673],\n",
       "             [1.0250001],\n",
       "             [1.0267423],\n",
       "             [1.028494 ],\n",
       "             [1.0302552],\n",
       "             [1.0320258],\n",
       "             [1.0338058],\n",
       "             [1.0355953],\n",
       "             [1.0373943],\n",
       "             [1.0392027],\n",
       "             [1.0410205],\n",
       "             [1.0428478],\n",
       "             [1.0446845],\n",
       "             [1.0465307],\n",
       "             [1.0483863],\n",
       "             [1.0502514],\n",
       "             [1.0521259],\n",
       "             [1.0540098],\n",
       "             [1.0559033],\n",
       "             [1.0578061],\n",
       "             [1.0597185],\n",
       "             [1.0616401],\n",
       "             [1.0635713],\n",
       "             [1.0655121],\n",
       "             [1.0674622],\n",
       "             [1.0694216],\n",
       "             [1.0713907],\n",
       "             [1.0733691],\n",
       "             [1.0753571],\n",
       "             [1.0773543],\n",
       "             [1.0793612],\n",
       "             [1.0813774],\n",
       "             [1.0834031],\n",
       "             [1.0854383],\n",
       "             [1.0874828],\n",
       "             [1.0895368],\n",
       "             [1.0916004],\n",
       "             [1.0936732],\n",
       "             [1.0957556],\n",
       "             [1.0978473],\n",
       "             [1.0999486],\n",
       "             [1.1020594],\n",
       "             [1.1041795],\n",
       "             [1.1063092],\n",
       "             [1.1084483],\n",
       "             [1.1105967],\n",
       "             [1.1127547],\n",
       "             [1.114922 ],\n",
       "             [1.1170989],\n",
       "             [1.1192852],\n",
       "             [1.121481 ],\n",
       "             [1.1236861],\n",
       "             [1.1259007],\n",
       "             [1.1281248],\n",
       "             [1.1303585],\n",
       "             [1.1326014],\n",
       "             [1.1348538],\n",
       "             [1.1371157],\n",
       "             [1.139387 ],\n",
       "             [1.1416678],\n",
       "             [1.143958 ],\n",
       "             [1.1462576],\n",
       "             [1.1485668],\n",
       "             [1.1508853],\n",
       "             [1.1532134],\n",
       "             [1.1555508],\n",
       "             [1.1578977],\n",
       "             [1.1602541],\n",
       "             [1.1626198],\n",
       "             [1.1649952],\n",
       "             [1.1673799],\n",
       "             [1.1697739],\n",
       "             [1.1721776],\n",
       "             [1.1745906],\n",
       "             [1.1770132],\n",
       "             [1.179445 ],\n",
       "             [1.1818864],\n",
       "             [1.1843373],\n",
       "             [1.1867975],\n",
       "             [1.1892673],\n",
       "             [1.1917465],\n",
       "             [1.1942351],\n",
       "             [1.1967331],\n",
       "             [1.1992407],\n",
       "             [1.2017576],\n",
       "             [1.2042841],\n",
       "             [1.2068198],\n",
       "             [1.2093651],\n",
       "             [1.2119199],\n",
       "             [1.2144841],\n",
       "             [1.2170577],\n",
       "             [1.2196409],\n",
       "             [1.2222333],\n",
       "             [1.2248354],\n",
       "             [1.2274469],\n",
       "             [1.2300677],\n",
       "             [1.2326981],\n",
       "             [1.2353379],\n",
       "             [1.237987 ],\n",
       "             [1.2406458],\n",
       "             [1.2433138],\n",
       "             [1.2459915],\n",
       "             [1.2486784],\n",
       "             [1.2513748],\n",
       "             [1.2540808],\n",
       "             [1.2567961],\n",
       "             [1.259521 ],\n",
       "             [1.2622552],\n",
       "             [1.2649989],\n",
       "             [1.267752 ],\n",
       "             [1.2705147],\n",
       "             [1.2732867],\n",
       "             [1.2760682],\n",
       "             [1.2788591],\n",
       "             [1.2816595],\n",
       "             [1.2844695],\n",
       "             [1.2872887],\n",
       "             [1.2901174],\n",
       "             [1.2929555],\n",
       "             [1.2958032],\n",
       "             [1.2986603],\n",
       "             [1.3015268],\n",
       "             [1.3044028],\n",
       "             [1.3072882],\n",
       "             [1.310183 ],\n",
       "             [1.3130873],\n",
       "             [1.3160012],\n",
       "             [1.3189243],\n",
       "             [1.321857 ],\n",
       "             [1.3247991],\n",
       "             [1.3277507],\n",
       "             [1.3307116],\n",
       "             [1.3336821],\n",
       "             [1.3366619],\n",
       "             [1.3396513],\n",
       "             [1.3426502],\n",
       "             [1.3456583],\n",
       "             [1.348676 ],\n",
       "             [1.3517032],\n",
       "             [1.3547397],\n",
       "             [1.3577858],\n",
       "             [1.3608413],\n",
       "             [1.3639061],\n",
       "             [1.3669806],\n",
       "             [1.3700644],\n",
       "             [1.3731575],\n",
       "             [1.3762603],\n",
       "             [1.3793725],\n",
       "             [1.3824941],\n",
       "             [1.3856251],\n",
       "             [1.3887656],\n",
       "             [1.3919156],\n",
       "             [1.395075 ],\n",
       "             [1.3982438],\n",
       "             [1.4014221],\n",
       "             [1.4046099],\n",
       "             [1.407807 ],\n",
       "             [1.4110137],\n",
       "             [1.4142298],\n",
       "             [1.4174553],\n",
       "             [1.4206903],\n",
       "             [1.4239347],\n",
       "             [1.4271886],\n",
       "             [1.4304519],\n",
       "             [1.4337246],\n",
       "             [1.4370068],\n",
       "             [1.4402986],\n",
       "             [1.4435997],\n",
       "             [1.4469101],\n",
       "             [1.4502302],\n",
       "             [1.4535598],\n",
       "             [1.4568985],\n",
       "             [1.4602468],\n",
       "             [1.4636048],\n",
       "             [1.466972 ],\n",
       "             [1.4703486],\n",
       "             [1.4737349],\n",
       "             [1.4771304],\n",
       "             [1.4805354],\n",
       "             [1.4839498],\n",
       "             [1.487374 ],\n",
       "             [1.4908072],\n",
       "             [1.4942499],\n",
       "             [1.4977022],\n",
       "             [1.501164 ],\n",
       "             [1.5046352]], dtype=float32, weak_type=True)"
      ]
     },
     "execution_count": 7,
     "metadata": {},
     "output_type": "execute_result"
    }
   ],
   "source": [
    "model = NeuralODE(data_size, width_size, depth, key=key)\n",
    "model(ts, y0)"
   ]
  },
  {
   "attachments": {},
   "cell_type": "markdown",
   "metadata": {},
   "source": [
    "Given the target state $y^*$, we can randomly construct training data."
   ]
  },
  {
   "cell_type": "code",
   "execution_count": 8,
   "metadata": {},
   "outputs": [],
   "source": [
    "ystar = 1.0 ## target state\n",
    "\n",
    "def _get_data(ts, *args, key):\n",
    "    y0 = jax.random.uniform(key, (1,), minval=-2.0, maxval=4.0)\n",
    "    yT = jnp.array([ystar])\n",
    "    return jnp.stack([y0, yT], axis=0)     ## data_size is 1\n",
    "\n",
    "def get_data(dataset_size, *args, key):\n",
    "    ts = jnp.linspace(0, T, N)\n",
    "    key = jax.random.split(key, dataset_size)\n",
    "    ys = jax.vmap(lambda key: _get_data(ts, key=key))(key)\n",
    "    return ts, ys"
   ]
  },
  {
   "cell_type": "code",
   "execution_count": 9,
   "metadata": {},
   "outputs": [],
   "source": [
    "def dataloader(array, batch_size, *args, key):\n",
    "    dataset_size = array.shape[0]\n",
    "    indices = jnp.arange(dataset_size)\n",
    "    perm = jax.random.permutation(key, indices)\n",
    "    start = 0\n",
    "    end = batch_size\n",
    "    while end < dataset_size:\n",
    "        batch_perm = perm[start:end]\n",
    "        yield array[batch_perm]\n",
    "        start = end\n",
    "        end = start + batch_size"
   ]
  },
  {
   "cell_type": "code",
   "execution_count": 10,
   "metadata": {},
   "outputs": [
    {
     "name": "stdout",
     "output_type": "stream",
     "text": [
      "[[[-1.517703  ]\n",
      "  [ 1.        ]]\n",
      "\n",
      " [[ 3.4538887 ]\n",
      "  [ 1.        ]]\n",
      "\n",
      " [[ 2.8290784 ]\n",
      "  [ 1.        ]]\n",
      "\n",
      " [[ 0.9236171 ]\n",
      "  [ 1.        ]]\n",
      "\n",
      " [[-0.38279963]\n",
      "  [ 1.        ]]\n",
      "\n",
      " [[ 1.609659  ]\n",
      "  [ 1.        ]]\n",
      "\n",
      " [[-0.99940157]\n",
      "  [ 1.        ]]\n",
      "\n",
      " [[ 3.9643095 ]\n",
      "  [ 1.        ]]\n",
      "\n",
      " [[ 0.8914428 ]\n",
      "  [ 1.        ]]\n",
      "\n",
      " [[ 1.6496961 ]\n",
      "  [ 1.        ]]\n",
      "\n",
      " [[ 2.6191301 ]\n",
      "  [ 1.        ]]\n",
      "\n",
      " [[ 1.62783   ]\n",
      "  [ 1.        ]]\n",
      "\n",
      " [[ 2.0438213 ]\n",
      "  [ 1.        ]]\n",
      "\n",
      " [[ 1.7779708 ]\n",
      "  [ 1.        ]]\n",
      "\n",
      " [[-1.8985875 ]\n",
      "  [ 1.        ]]\n",
      "\n",
      " [[ 1.0560746 ]\n",
      "  [ 1.        ]]\n",
      "\n",
      " [[ 2.6930017 ]\n",
      "  [ 1.        ]]\n",
      "\n",
      " [[-0.99296284]\n",
      "  [ 1.        ]]\n",
      "\n",
      " [[-1.3068635 ]\n",
      "  [ 1.        ]]\n",
      "\n",
      " [[ 1.960326  ]\n",
      "  [ 1.        ]]\n",
      "\n",
      " [[-1.2860596 ]\n",
      "  [ 1.        ]]\n",
      "\n",
      " [[ 2.750087  ]\n",
      "  [ 1.        ]]\n",
      "\n",
      " [[ 1.1764915 ]\n",
      "  [ 1.        ]]\n",
      "\n",
      " [[ 2.253872  ]\n",
      "  [ 1.        ]]\n",
      "\n",
      " [[ 0.43095183]\n",
      "  [ 1.        ]]\n",
      "\n",
      " [[-0.20784163]\n",
      "  [ 1.        ]]\n",
      "\n",
      " [[-0.9548218 ]\n",
      "  [ 1.        ]]\n",
      "\n",
      " [[ 1.429599  ]\n",
      "  [ 1.        ]]\n",
      "\n",
      " [[ 3.8905287 ]\n",
      "  [ 1.        ]]\n",
      "\n",
      " [[ 0.4389441 ]\n",
      "  [ 1.        ]]\n",
      "\n",
      " [[ 3.7384038 ]\n",
      "  [ 1.        ]]\n",
      "\n",
      " [[-0.85115767]\n",
      "  [ 1.        ]]]\n"
     ]
    }
   ],
   "source": [
    "dataset_size = 256\n",
    "batch_size = 32\n",
    "data_key, loader_key = jax.random.split(key, 2)\n",
    "\n",
    "_, ys = get_data(dataset_size, key=data_key)\n",
    "train_loader = dataloader(ys, batch_size, key=loader_key)\n",
    "\n",
    "## Test the dataloader\n",
    "for i, batch in enumerate(train_loader):\n",
    "    if i < 1: print(batch)"
   ]
  },
  {
   "cell_type": "code",
   "execution_count": 11,
   "metadata": {},
   "outputs": [],
   "source": [
    "lr = 3e-3\n",
    "optim = optax.adabelief(lr)\n",
    "opt_state = optim.init(eqx.filter(model, eqx.is_inexact_array))\n",
    "\n",
    "@eqx.filter_value_and_grad\n",
    "def grad_loss(model, ti, yi):\n",
    "    y_pred = jax.vmap(model, in_axes=(None, 0))(ti, yi[:, 0])\n",
    "    return jnp.mean(0.5 * (yi[:, -1] - y_pred[:, -1]) ** 2)\n",
    "\n",
    "@eqx.filter_jit\n",
    "def make_step(ti, yi, model, opt_state):\n",
    "    loss, grads = grad_loss(model, ti, yi)\n",
    "    updates, opt_state = optim.update(grads, opt_state)\n",
    "    model = eqx.apply_updates(model, updates)\n",
    "    return loss, model, opt_state"
   ]
  },
  {
   "cell_type": "code",
   "execution_count": 12,
   "metadata": {},
   "outputs": [
    {
     "name": "stdout",
     "output_type": "stream",
     "text": [
      "Step: 100, Loss: 0.346547394990921, Computation time: 0.0049610137939453125\n",
      "Step: 200, Loss: 0.039205387234687805, Computation time: 0.005731105804443359\n",
      "Step: 300, Loss: 0.0009650092106312513, Computation time: 0.006148576736450195\n",
      "Step: 400, Loss: 8.609761607658584e-06, Computation time: 0.0060024261474609375\n",
      "Step: 500, Loss: 3.291030026275621e-08, Computation time: 0.0043485164642333984\n",
      "Step: 600, Loss: 2.627392747811541e-11, Computation time: 0.005404233932495117\n",
      "Step: 700, Loss: 4.743982984223294e-13, Computation time: 0.00667572021484375\n"
     ]
    },
    {
     "data": {
      "image/png": "[encoded data removed]",
      "text/plain": [
       "<Figure size 600x400 with 1 Axes>"
      ]
     },
     "metadata": {},
     "output_type": "display_data"
    }
   ],
   "source": [
    "epochs = 100\n",
    "\n",
    "step = 0\n",
    "losses = []\n",
    "for epoch in range(epochs):\n",
    "    for yi in dataloader(ys, batch_size, key=loader_key):\n",
    "        start = time.time()\n",
    "        loss, model, opt_state = make_step(ts, yi, model, opt_state)\n",
    "        end = time.time()\n",
    "        step += 1\n",
    "        losses.append(loss)\n",
    "        if (step % 100) == 0:\n",
    "            print(f\"Step: {step}, Loss: {loss}, Computation time: {end - start}\")\n",
    "\n",
    "fig, ax = plt.subplots(1,1,figsize=(6,4))\n",
    "plot(losses, \"m.\", label=\"MSE\", x_label=\"steps\", title=\"Loss\", ax=ax)\n",
    "ax.set_yscale('log')"
   ]
  },
  {
   "attachments": {},
   "cell_type": "markdown",
   "metadata": {},
   "source": [
    "Let's plot the results, and compare them to the known constant optimal control:\n",
    "\\begin{align}\n",
    "u^*(t) = \\frac{y^* - y_0}{T}\n",
    "\\end{align}\n",
    "**N.B.** This is the desired optimal control because it also minimises the energy functional $E(u) = \\int_0^T \\Vert u \\Vert^2 \\, \\text{d}t$. Otherwise, many different controls solve this problem elegantly."
   ]
  },
  {
   "cell_type": "code",
   "execution_count": 13,
   "metadata": {},
   "outputs": [
    {
     "name": "stdout",
     "output_type": "stream",
     "text": [
      "Learned control weights: [[ 0.7795202 -0.9999994]]\n",
      "Learned control bias: [0.61023885]\n",
      "Check NN strategy: -2.1457672e-06\n"
     ]
    }
   ],
   "source": [
    "## Printing the weights\n",
    "if hasattr(model.u, 'mlp'):\n",
    "    print(\"Learned control weights:\", model.u.mlp.layers[0].weight)         ## Should idealy be [0, -1]/T\n",
    "    print(\"Learned control bias:\", model.u.mlp.layers[0].bias)              ## Should idealy be ystar/T = 1\n",
    "    print(\"Check NN strategy:\", model.u.mlp.layers[0].weight[0][0] + 2*model.u.mlp.layers[0].bias[0] - 2)\n",
    "else:\n",
    "    print(\"Learned control weights:\", model.u.weight) \n",
    "    print(\"Learned control bias:\", model.u.bias) \n",
    "    print(\"Check NN strategy:\", model.u.weight[0][0] + 2*model.u.bias[0] - 2)"
   ]
  },
  {
   "cell_type": "code",
   "execution_count": 14,
   "metadata": {},
   "outputs": [
    {
     "data": {
      "image/png": "[encoded data removed]",
      "text/plain": [
       "<Figure size 1600x500 with 2 Axes>"
      ]
     },
     "metadata": {},
     "output_type": "display_data"
    }
   ],
   "source": [
    "test_gen_key = jax.random.PRNGKey(int(time.time()))\n",
    "\n",
    "ytrue = _get_data(ts, key=test_gen_key)\n",
    "ypred = model(ts, ytrue[0])[:]\n",
    "utrue = jnp.ones_like(ytrue) * (ystar-ytrue[0])/T\n",
    "upred = jax.vmap(model.u, in_axes=(0, None, None))(ts, ypred, ypred[0])\n",
    "\n",
    "fig, (ax1, ax2) = plt.subplots(1, 2, figsize=(8*2, 5))\n",
    "tplot = [ts[0], ts[-1]]\n",
    "ax1 = plot(tplot, ytrue, c=\"dodgerblue\", label=\"Label\", title=\"Trajectories\", x_label=r\"$t$\", y_label=r\"$y$\", ax=ax1)\n",
    "ax1 = plot(ts, ypred, \".-\", c=\"crimson\", label=\"Model\", ax=ax1)\n",
    "\n",
    "ax2 = plot(tplot, utrue, c=\"dodgerblue\", label=\"Optimal\", title=\"Controls\", x_label=r\"$t$\", y_label=r\"$u$\", ax=ax2)\n",
    "ax2 = plot(ts, upred, \".-\", c=\"crimson\", label=\"Model\", ax=ax2)\n",
    "ax2.set_ylim(-5, 5);"
   ]
  },
  {
   "attachments": {},
   "cell_type": "markdown",
   "metadata": {},
   "source": [
    "## Findings\n",
    "The follwing features were implemented in Neural ODE and interpreted:\n",
    "- Included control $u$ as a function of $y$: could neither recover trajectories nor controls\n",
    "- Included control $u$ as a function only of $t$: could not recover trajectories but not too bad on controls\n",
    "- Included control $u$ as function of both $t$ and $y_0$: could almost perfectly recover trajectories, but completely wrong on optimal controls\n",
    "\n",
    "In the abscence of the energy functional, the neural network tells us that optimal control that is in the form \n",
    "\\begin{align}\n",
    "&u(t) = at + by_0 + c \\\\\n",
    "&\\text{with  } \\frac{1}{2}aT^2 + bTy_0 + cT + y_0 = y^*\n",
    "\\end{align} \n",
    "With $T=1$ and $y^*=1$, the neural network seems to understand that the best choice is $b=-1$, and set $a + 2c - 2 = 0$. This is why our modelled control is only **near-optimal**.\n",
    "\n",
    "So, the MIN (Minimally Interpretably Network) for this problem is simply 2 input neurons without bias and 1 output neuron. In total, just 2 learnable parameters (HINT: setting $c=0$ leads to $a = 2$). (We showed this using a linear layer: the `bias` is not needed). \n",
    "\n",
    "Quite different from what they did in https://iopscience.iop.org/article/10.1088/2632-2153/ac92c3/pdf, since initialisation is not a big problem in our case.\n",
    "\n",
    "## Next steps\n",
    "- Reproduce this experiment with the energy functional\n",
    "- Include middle position as extra constraint\n",
    "- Use SINDy to recover the governing equation for the controls\n",
    "- Uncertainty quantify the trajectories, especially when initial state is known\n",
    "- Generate trajectories based on probability density estimation"
   ]
  }
 ],
 "metadata": {
  "kernelspec": {
   "display_name": "Python 3",
   "language": "python",
   "name": "python3"
  },
  "language_info": {
   "codemirror_mode": {
    "name": "ipython",
    "version": 3
   },
   "file_extension": ".py",
   "mimetype": "text/x-python",
   "name": "python",
   "nbconvert_exporter": "python",
   "pygments_lexer": "ipython3",
   "version": "3.10.8 (main, Oct 21 2022, 22:22:30) [Clang 14.0.0 (clang-1400.0.29.202)]"
  },
  "orig_nbformat": 4,
  "vscode": {
   "interpreter": {
    "hash": "b0fa6594d8f4cbf19f97940f81e996739fb7646882a419484c72d19e05852a7e"
   }
  }
 },
 "nbformat": 4,
 "nbformat_minor": 2
}
