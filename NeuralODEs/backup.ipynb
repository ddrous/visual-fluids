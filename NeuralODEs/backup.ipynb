{
 "cells": [
  {
   "cell_type": "code",
   "execution_count": 1,
   "metadata": {},
   "outputs": [],
   "source": [
    "%reset -f"
   ]
  },
  {
   "cell_type": "code",
   "execution_count": 2,
   "metadata": {},
   "outputs": [
    {
     "data": {
      "text/plain": [
       "<Figure size 640x480 with 0 Axes>"
      ]
     },
     "metadata": {},
     "output_type": "display_data"
    }
   ],
   "source": [
    "import diffrax\n",
    "import equinox as eqx  # https://github.com/patrick-kidger/equinox\n",
    "import jax\n",
    "import jax.numpy as jnp\n",
    "import optax  # https://github.com/deepmind/optax\n",
    "\n",
    "import time\n",
    "from utils import plot;"
   ]
  },
  {
   "cell_type": "code",
   "execution_count": 5,
   "metadata": {},
   "outputs": [],
   "source": [
    "class Func(eqx.Module):\n",
    "    mlp: eqx.nn.MLP\n",
    "\n",
    "    def __init__(self, data_size, width_size, depth, *args, key, **kwargs):\n",
    "        super().__init__(**kwargs)\n",
    "        self.mlp = eqx.nn.MLP(\n",
    "            in_size=data_size,\n",
    "            out_size=data_size,\n",
    "            width_size=width_size,\n",
    "            depth=depth,\n",
    "            activation=jax.nn.softplus,\n",
    "            key=key,\n",
    "        )\n",
    "\n",
    "    def __call__(self, t, y, *args):\n",
    "        return self.mlp(y)"
   ]
  },
  {
   "cell_type": "code",
   "execution_count": 6,
   "metadata": {},
   "outputs": [
    {
     "name": "stdout",
     "output_type": "stream",
     "text": [
      "Behold the control term: \n",
      "----------------------- \n",
      " Func(\n",
      "  mlp=MLP(\n",
      "    layers=[\n",
      "      Linear(\n",
      "        weight=f32[4,1],\n",
      "        bias=f32[4],\n",
      "        in_features=1,\n",
      "        out_features=4,\n",
      "        use_bias=True\n",
      "      ),\n",
      "      Linear(\n",
      "        weight=f32[1,4],\n",
      "        bias=f32[1],\n",
      "        in_features=4,\n",
      "        out_features=1,\n",
      "        use_bias=True\n",
      "      )\n",
      "    ],\n",
      "    activation=<wrapped function softplus>,\n",
      "    final_activation=<function _identity>,\n",
      "    in_size=1,\n",
      "    out_size=1,\n",
      "    width_size=4,\n",
      "    depth=1\n",
      "  )\n",
      ")\n",
      "\n",
      "Testing the control term: \n",
      "----------------------- \n",
      " [-0.16173172]\n"
     ]
    }
   ],
   "source": [
    "ystar = 2.0 ## target state\n",
    "T = 2\n",
    "N = 2\n",
    "data_size = 1\n",
    "width_size = 4\n",
    "depth = 1\n",
    "seed = 3440\n",
    "key = jax.random.PRNGKey(seed)\n",
    "\n",
    "control = Func(data_size, width_size, depth, key=key)\n",
    "print(\"Behold the control term: \\n----------------------- \\n\", control)\n",
    "\n",
    "\n",
    "ts = jnp.linspace(0, T, N)\n",
    "y0 = jnp.array([1])\n",
    "\n",
    "print(\"\\nTesting the control term: \\n----------------------- \\n\", control(ts, y0))"
   ]
  },
  {
   "cell_type": "code",
   "execution_count": 7,
   "metadata": {},
   "outputs": [],
   "source": [
    "class NeuralODE(eqx.Module):\n",
    "    func: Func\n",
    "\n",
    "    def __init__(self, data_size, width_size, depth, *args, key, **kwargs):\n",
    "        super().__init__(**kwargs)\n",
    "        self.func = Func(data_size, width_size, depth, key=key)\n",
    "\n",
    "    def __call__(self, ts, y0):\n",
    "        solution = diffrax.diffeqsolve(\n",
    "            diffrax.ODETerm(self.func),\n",
    "            diffrax.Tsit5(),\n",
    "            t0=ts[0],\n",
    "            t1=ts[-1],\n",
    "            dt0=(ts[1] - ts[0])/1000,\n",
    "            y0=y0,\n",
    "            stepsize_controller=diffrax.PIDController(rtol=1e-3, atol=1e-6),\n",
    "            saveat=diffrax.SaveAt(ts=ts),\n",
    "        )\n",
    "        return solution.ys"
   ]
  },
  {
   "cell_type": "code",
   "execution_count": 8,
   "metadata": {},
   "outputs": [
    {
     "data": {
      "text/plain": [
       "DeviceArray([[1.      ],\n",
       "             [0.693534]], dtype=float32, weak_type=True)"
      ]
     },
     "execution_count": 8,
     "metadata": {},
     "output_type": "execute_result"
    }
   ],
   "source": [
    "model = NeuralODE(data_size, width_size, depth, key=key)\n",
    "model(ts, y0)"
   ]
  },
  {
   "cell_type": "code",
   "execution_count": 9,
   "metadata": {},
   "outputs": [],
   "source": [
    "def _get_data(ts, *args, key):\n",
    "    y0 = jax.random.uniform(key, (1,), minval=-0.6, maxval=1)\n",
    "    yT = jnp.array([ystar])    ## target state\n",
    "    return jnp.vstack([y0, yT])     ## data_size is 1\n",
    "\n",
    "def get_data(dataset_size, *args, key):\n",
    "    ts = jnp.linspace(0, T, N)\n",
    "    key = jax.random.split(key, dataset_size)\n",
    "    ys = jax.vmap(lambda key: _get_data(ts, key=key))(key)\n",
    "    return ts, ys"
   ]
  },
  {
   "cell_type": "code",
   "execution_count": 10,
   "metadata": {},
   "outputs": [],
   "source": [
    "def dataloader(array, batch_size, *args, key):\n",
    "    dataset_size = array.shape[0]\n",
    "    indices = jnp.arange(dataset_size)\n",
    "    perm = jax.random.permutation(key, indices)\n",
    "    start = 0\n",
    "    end = batch_size\n",
    "    while end < dataset_size:\n",
    "        batch_perm = perm[start:end]\n",
    "        yield array[batch_perm]\n",
    "        start = end\n",
    "        end = start + batch_size"
   ]
  },
  {
   "cell_type": "code",
   "execution_count": 11,
   "metadata": {},
   "outputs": [
    {
     "name": "stdout",
     "output_type": "stream",
     "text": [
      "[[[-0.5589571 ]\n",
      "  [ 2.        ]]\n",
      "\n",
      " [[ 0.5199953 ]\n",
      "  [ 2.        ]]\n",
      "\n",
      " [[-0.00660593]\n",
      "  [ 2.        ]]\n",
      "\n",
      " [[-0.4064253 ]\n",
      "  [ 2.        ]]\n",
      "\n",
      " [[ 0.38700294]\n",
      "  [ 2.        ]]\n",
      "\n",
      " [[ 0.42375183]\n",
      "  [ 2.        ]]\n",
      "\n",
      " [[ 0.57775456]\n",
      "  [ 2.        ]]\n",
      "\n",
      " [[-0.12456877]\n",
      "  [ 2.        ]]\n",
      "\n",
      " [[-0.4055838 ]\n",
      "  [ 2.        ]]\n",
      "\n",
      " [[ 0.6944105 ]\n",
      "  [ 2.        ]]\n",
      "\n",
      " [[-0.3185152 ]\n",
      "  [ 2.        ]]\n",
      "\n",
      " [[-0.22884619]\n",
      "  [ 2.        ]]\n",
      "\n",
      " [[ 0.7775795 ]\n",
      "  [ 2.        ]]\n",
      "\n",
      " [[ 0.8481293 ]\n",
      "  [ 2.        ]]\n",
      "\n",
      " [[ 0.08992632]\n",
      "  [ 2.        ]]\n",
      "\n",
      " [[ 0.8857601 ]\n",
      "  [ 2.        ]]\n",
      "\n",
      " [[ 0.6897484 ]\n",
      "  [ 2.        ]]\n",
      "\n",
      " [[ 0.30989227]\n",
      "  [ 2.        ]]\n",
      "\n",
      " [[ 0.5264921 ]\n",
      "  [ 2.        ]]\n",
      "\n",
      " [[ 0.970163  ]\n",
      "  [ 2.        ]]\n",
      "\n",
      " [[ 0.4143997 ]\n",
      "  [ 2.        ]]\n",
      "\n",
      " [[ 0.71766835]\n",
      "  [ 2.        ]]\n",
      "\n",
      " [[ 0.9217262 ]\n",
      "  [ 2.        ]]\n",
      "\n",
      " [[ 0.6059452 ]\n",
      "  [ 2.        ]]\n",
      "\n",
      " [[ 0.43462867]\n",
      "  [ 2.        ]]\n",
      "\n",
      " [[ 0.983744  ]\n",
      "  [ 2.        ]]\n",
      "\n",
      " [[ 0.02446593]\n",
      "  [ 2.        ]]\n",
      "\n",
      " [[ 0.13332805]\n",
      "  [ 2.        ]]\n",
      "\n",
      " [[ 0.81393355]\n",
      "  [ 2.        ]]\n",
      "\n",
      " [[ 0.5139356 ]\n",
      "  [ 2.        ]]\n",
      "\n",
      " [[ 0.6705179 ]\n",
      "  [ 2.        ]]\n",
      "\n",
      " [[ 0.61587733]\n",
      "  [ 2.        ]]]\n"
     ]
    }
   ],
   "source": [
    "dataset_size = 256\n",
    "batch_size = 32\n",
    "data_key, loader_key = jax.random.split(key, 2)\n",
    "\n",
    "_, ys = get_data(dataset_size, key=data_key)\n",
    "train_loader = dataloader(ys, batch_size, key=loader_key)\n",
    "\n",
    "for i, batch in enumerate(train_loader):\n",
    "    if i < 1: print(batch)"
   ]
  },
  {
   "cell_type": "code",
   "execution_count": 12,
   "metadata": {},
   "outputs": [
    {
     "name": "stdout",
     "output_type": "stream",
     "text": [
      "Step: 100, Loss: 0.04506772384047508, Computation time: 0.0006909370422363281\n",
      "Step: 200, Loss: 0.09275538474321365, Computation time: 0.0006861686706542969\n",
      "Step: 300, Loss: 0.060512565076351166, Computation time: 0.0006930828094482422\n",
      "Step: 400, Loss: 0.07409393787384033, Computation time: 0.0006971359252929688\n",
      "Step: 500, Loss: 0.003844359191134572, Computation time: 0.0007128715515136719\n",
      "Step: 600, Loss: 0.006784558761864901, Computation time: 0.0006990432739257812\n",
      "Step: 700, Loss: 2.3168560801423155e-05, Computation time: 0.0007038116455078125\n",
      "Step: 800, Loss: 0.011140335351228714, Computation time: 0.0007569789886474609\n",
      "Step: 900, Loss: 0.022908994928002357, Computation time: 0.0006966590881347656\n",
      "Step: 1000, Loss: 0.015970855951309204, Computation time: 0.0006909370422363281\n",
      "Step: 1100, Loss: 0.01983659155666828, Computation time: 0.0006988048553466797\n",
      "Step: 1200, Loss: 0.0009065116755664349, Computation time: 0.0006988048553466797\n",
      "Step: 1300, Loss: 0.0019515384919941425, Computation time: 0.0007092952728271484\n",
      "Step: 1400, Loss: 1.899886228784453e-05, Computation time: 0.0006830692291259766\n",
      "Step: 1500, Loss: 0.0031072930432856083, Computation time: 0.0007278919219970703\n",
      "Step: 1600, Loss: 0.006863793358206749, Computation time: 0.0006878376007080078\n",
      "Step: 1700, Loss: 0.004968403372913599, Computation time: 0.000698089599609375\n",
      "Step: 1800, Loss: 0.006615024991333485, Computation time: 0.0006940364837646484\n",
      "Step: 1900, Loss: 0.0003425224276725203, Computation time: 0.0006811618804931641\n",
      "Step: 2000, Loss: 0.0006989046814851463, Computation time: 0.0006880760192871094\n",
      "Step: 2100, Loss: 2.0245934138074517e-06, Computation time: 0.0007631778717041016\n",
      "Step: 2200, Loss: 0.0013341025914996862, Computation time: 0.0007159709930419922\n",
      "Step: 2300, Loss: 0.0029065341223031282, Computation time: 0.0009009838104248047\n",
      "Step: 2400, Loss: 0.002171869622543454, Computation time: 0.0006847381591796875\n",
      "Step: 2500, Loss: 0.0030688841361552477, Computation time: 0.000698089599609375\n",
      "Step: 2600, Loss: 0.00017589417984709144, Computation time: 0.0007021427154541016\n",
      "Step: 2700, Loss: 0.00033214461291208863, Computation time: 0.0007112026214599609\n",
      "Step: 2800, Loss: 2.5777183054742636e-07, Computation time: 0.0007290840148925781\n",
      "Step: 2900, Loss: 0.0007050889544188976, Computation time: 0.0007028579711914062\n",
      "Step: 3000, Loss: 0.0015098234871402383, Computation time: 0.0007202625274658203\n",
      "Step: 3100, Loss: 0.0011460332898423076, Computation time: 0.0007178783416748047\n",
      "Step: 3200, Loss: 0.0016811864916235209, Computation time: 0.0007112026214599609\n",
      "Step: 3300, Loss: 0.00010178391676163301, Computation time: 0.0007066726684570312\n",
      "Step: 3400, Loss: 0.00017946945445146412, Computation time: 0.0007181167602539062\n",
      "Step: 3500, Loss: 6.4556502366031054e-09, Computation time: 0.0008571147918701172\n"
     ]
    }
   ],
   "source": [
    "lr = 3e-3\n",
    "epochs = 500\n",
    "\n",
    "optim = optax.adabelief(lr)\n",
    "opt_state = optim.init(eqx.filter(model, eqx.is_inexact_array))\n",
    "\n",
    "@eqx.filter_value_and_grad\n",
    "def grad_loss(model, ti, yi):\n",
    "    y_pred = jax.vmap(model, in_axes=(None, 0))(ti, yi[:, 0])\n",
    "    return jnp.mean(0.5 * (yi[-1] - y_pred[-1]) ** 2)\n",
    "\n",
    "@eqx.filter_jit\n",
    "def make_step(ti, yi, model, opt_state):\n",
    "    loss, grads = grad_loss(model, ti, yi)\n",
    "    updates, opt_state = optim.update(grads, opt_state)\n",
    "    model = eqx.apply_updates(model, updates)\n",
    "    return loss, model, opt_state\n",
    "\n",
    "step = 0\n",
    "for epoch in range(epochs):\n",
    "    for yi in dataloader(ys, batch_size, key=loader_key):\n",
    "        start = time.time()\n",
    "        loss, model, opt_state = make_step(ts, yi, model, opt_state)\n",
    "        step += 1\n",
    "        end = time.time()\n",
    "        if (step % 100) == 0 or step == batch_size*epochs-1:\n",
    "            print(f\"Step: {step}, Loss: {loss}, Computation time: {end - start}\")"
   ]
  },
  {
   "cell_type": "code",
   "execution_count": 14,
   "metadata": {},
   "outputs": [
    {
     "data": {
      "image/png": "[encoded data removed]",
      "text/plain": [
       "<Figure size 800x500 with 1 Axes>"
      ]
     },
     "metadata": {},
     "output_type": "display_data"
    }
   ],
   "source": [
    "test_key = jax.random.PRNGKey(int(time.time()))\n",
    "test_point = int(jax.random.uniform(key=test_key, minval=0, maxval=dataset_size))\n",
    "\n",
    "ytrue = ys[test_point, :]\n",
    "ypred = model(ts, ys[test_point, 0])[:]\n",
    "\n",
    "# utrue = jnp.ones_like(ytrue) * (ystar-ytrue[0])/T\n",
    "# upred = model.func(ts, )\n",
    "\n",
    "# fig, (ax1, ax2) = plt.subplots(1, 2, figsize=(8, 5*2))\n",
    "ax1 = plot(ts, ytrue, c=\"dodgerblue\", label=\"Label\", title=\"Trajectories\", x_label=r\"$t$\", y_label=r\"$y$\")\n",
    "ax1 = plot(ts, ypred, c=\"crimson\", label=\"Model\", ax=ax1)\n",
    "\n",
    "# ax2 = plot(ts, utrue, c=\"dodgerblue\", label=\"Label (Optimal)\", title=\"Controls\", x_label=r\"$t$\", y_label=r\"$y$\")\n",
    "# ax2 = plot(ts, upred, c=\"crimson\", label=\"Model\", ax=ax2)"
   ]
  }
 ],
 "metadata": {
  "kernelspec": {
   "display_name": "jaxenv",
   "language": "python",
   "name": "python3"
  },
  "language_info": {
   "codemirror_mode": {
    "name": "ipython",
    "version": 3
   },
   "file_extension": ".py",
   "mimetype": "text/x-python",
   "name": "python",
   "nbconvert_exporter": "python",
   "pygments_lexer": "ipython3",
   "version": "3.10.8"
  },
  "orig_nbformat": 4,
  "vscode": {
   "interpreter": {
    "hash": "8172ebf40a1b5495b14df1ebdc40c339972f6d826997aae164f4bf169121d865"
   }
  }
 },
 "nbformat": 4,
 "nbformat_minor": 2
}
