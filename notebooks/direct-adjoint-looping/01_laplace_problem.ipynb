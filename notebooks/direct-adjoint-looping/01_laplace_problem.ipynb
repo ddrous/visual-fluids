{
 "cells": [
  {
   "cell_type": "code",
   "execution_count": 8,
   "metadata": {},
   "outputs": [
    {
     "name": "stderr",
     "output_type": "stream",
     "text": [
      "2023-01-17 20:05:29.629344: W external/org_tensorflow/tensorflow/tsl/platform/default/dso_loader.cc:66] Could not load dynamic library 'libcudart.so.11.0'; dlerror: libcudart.so.11.0: cannot open shared object file: No such file or directory\n",
      "2023-01-17 20:05:29.936367: W external/org_tensorflow/tensorflow/tsl/platform/default/dso_loader.cc:66] Could not load dynamic library 'libcudart.so.11.0'; dlerror: libcudart.so.11.0: cannot open shared object file: No such file or directory\n",
      "2023-01-17 20:05:29.947272: W external/org_tensorflow/tensorflow/tsl/platform/default/dso_loader.cc:66] Could not load dynamic library 'libcudart.so.11.0'; dlerror: libcudart.so.11.0: cannot open shared object file: No such file or directory\n"
     ]
    }
   ],
   "source": [
    "%reset -f\n",
    "\n",
    "import os, sys\n",
    "sys.path.insert(0, os.path.abspath(\"..\"))\n",
    "\n",
    "import jax.numpy as jnp\n",
    "\n",
    "from _utils import plot"
   ]
  },
  {
   "cell_type": "code",
   "execution_count": 9,
   "metadata": {},
   "outputs": [],
   "source": [
    "## A simple rectangle regularly discretised\n",
    "class Grid():\n",
    "    def __init__(self, Lx, Ly, Nx, Ny) -> None:\n",
    "        self.Lx = Lx\n",
    "        self.Ly = Ly\n",
    "        self.Nx = Nx\n",
    "        self.Ny = Ny"
   ]
  },
  {
   "cell_type": "code",
   "execution_count": 10,
   "metadata": {},
   "outputs": [],
   "source": [
    "## Reshapes a vector into a Julia-ready matrix for representation\n",
    "def vec2mat(U, N, M):\n",
    "    return jnp.reshape(U, (N,M))\n",
    "\n",
    "## Flattens a matrix into a Julia-ready vector for computation\n",
    "def mat2vec(u):\n",
    "    return jnp.reshape(u, (jnp.size(u), -1), order='C')\n",
    "\n",
    "## Arranges a Julia-ready matrix into a 2D tensor suitable for human visualisation\n",
    "def mat2plane(u):\n",
    "    return jnp.flip(u.T)"
   ]
  },
  {
   "cell_type": "code",
   "execution_count": 11,
   "metadata": {},
   "outputs": [],
   "source": [
    "## A struct to hold out Poisson problem attributes\n",
    "class Poisson():\n",
    "    def __init__(self, fval, g) -> None:\n",
    "        self.g = g\n",
    "        self.f = jnp.fill(fval, (g.Nx+1,g.Ny+1))\n",
    "        self.u = jnp.zeros((g.Nx, g.Ny))      ## Boundary conditions are already imposed.\n",
    "    \n",
    "    ## Sets a boundary condition all around a matrix\n",
    "    def setboundaryconditions(self, bc):\n",
    "        ### Things should be stacked rather than modified\n",
    "        # u[1,:] .= bc\n",
    "        # u[g.Nx+1,:] .= bc\n",
    "        # u[:, 1] .= bc\n",
    "        # u[:, g.Ny+1] .= bc\n",
    "        return self.u\n"
   ]
  },
  {
   "cell_type": "code",
   "execution_count": 12,
   "metadata": {},
   "outputs": [],
   "source": [
    "## Deternimes location of a given point in a rectangle geometry\n",
    "## N.B. Assumes matrix form (Ny,Nx), not 2D plane form (Nx,Ny) obtained by rotation\n",
    "def isonboundary(i:jnp.int32, j:jnp.int32, g:Grid) -> str:\n",
    "    if j==1:\n",
    "        return \"west\"\n",
    "    elif i==g.Nx+1:\n",
    "        return \"south\"\n",
    "    elif j==g.Ny+1:\n",
    "        return \"east\"\n",
    "    elif i==1:\n",
    "        return \"north\"\n",
    "    else:\n",
    "        return \"inside\""
   ]
  },
  {
   "cell_type": "code",
   "execution_count": null,
   "metadata": {},
   "outputs": [],
   "source": []
  }
 ],
 "metadata": {
  "kernelspec": {
   "display_name": "jaxenv",
   "language": "python",
   "name": "python3"
  },
  "language_info": {
   "codemirror_mode": {
    "name": "ipython",
    "version": 3
   },
   "file_extension": ".py",
   "mimetype": "text/x-python",
   "name": "python",
   "nbconvert_exporter": "python",
   "pygments_lexer": "ipython3",
   "version": "3.9.15"
  },
  "orig_nbformat": 4,
  "vscode": {
   "interpreter": {
    "hash": "075710b6f5b19458306a4e9822ddfe61641ef7cace85254f009959072a1d7749"
   }
  }
 },
 "nbformat": 4,
 "nbformat_minor": 2
}
