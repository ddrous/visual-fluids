{
 "cells": [
  {
   "cell_type": "markdown",
   "metadata": {
    "pycharm": {
     "name": "#%% md\n"
    }
   },
   "source": [
    "# Solar System\n",
    "\n",
    "[![Google Collab Book](https://colab.research.google.com/assets/colab-badge.svg)](https://colab.research.google.com/github/tum-pbs/PhiFlow/blob/develop/docs/Planets_Tutorial.ipynb)\n",
    "\n",
    "\n",
    "This demo simulates the gravitational pull between multiple massive bodies.\n",
    "We will use Euler steps in time which do not preserve energy.\n",
    "\n",
    "[**Φ-Flow**](https://github.com/tum-pbs/PhiFlow)\n",
    "&nbsp;&nbsp;&nbsp; [**Documentation**](https://tum-pbs.github.io/PhiFlow/)\n",
    "&nbsp;&nbsp;&nbsp; [**API**](https://tum-pbs.github.io/PhiFlow/phi)\n",
    "&nbsp;&nbsp;&nbsp; [**Demos**](https://github.com/tum-pbs/PhiFlow/tree/develop/demos)"
   ]
  },
  {
   "cell_type": "code",
   "execution_count": null,
   "metadata": {
    "pycharm": {
     "name": "#%%\n"
    }
   },
   "outputs": [],
   "source": [
    "# !pip install phiflow"
   ]
  },
  {
   "cell_type": "markdown",
   "metadata": {
    "pycharm": {
     "name": "#%% md\n"
    }
   },
   "source": [
    "We use the convenience import of Φ<sub>Flow</sub> which imports the core submodules, such as `math` and `vis`."
   ]
  },
  {
   "cell_type": "code",
   "execution_count": 1,
   "metadata": {
    "pycharm": {
     "name": "#%%\n"
    }
   },
   "outputs": [],
   "source": [
    "from phi.flow import *"
   ]
  },
  {
   "cell_type": "markdown",
   "metadata": {
    "pycharm": {
     "name": "#%% md\n"
    }
   },
   "source": [
    "Let's define the initial positions for our planets.\n",
    "We stack the position vectors of the planets a long a new [*instance*](https://tum-pbs.github.io/PhiFlow/Math.html#shapes) dimension we call *planets*.\n",
    "Φ<sub>Flow</sub> also allows us to name the individual elements along that dimension. These names are part of the shape and will be present on all tensors derived from `x` that have this dimension."
   ]
  },
  {
   "cell_type": "code",
   "execution_count": 3,
   "metadata": {
    "pycharm": {
     "name": "#%%\n"
    }
   },
   "outputs": [
    {
     "data": {
      "text/plain": "\u001B[94m(x=0, y=0)\u001B[0m; \u001B[94m(x=10, y=0)\u001B[0m; \u001B[94m(x=0, y=12)\u001B[0m \u001B[92m(planetsⁱ=Sun,Earth,Mars, vectorᶜ=x,y)\u001B[0m"
     },
     "execution_count": 3,
     "metadata": {},
     "output_type": "execute_result"
    }
   ],
   "source": [
    "x = stack({'Sun': (0, 0), 'Earth': (10, 0), 'Mars': (0, 12)}, instance('planets'))\n",
    "x = rename_dims(x, 'vector', channel(vector='x,y'))\n",
    "x"
   ]
  },
  {
   "cell_type": "markdown",
   "metadata": {
    "pycharm": {
     "name": "#%% md\n"
    }
   },
   "source": [
    "We can plot these positions by constructing a `PointCloud`, using the `bounds` parameter to specify the axis range. Since the universe we are simulating is infinite, the `bounds` have no physical meaning in this case."
   ]
  },
  {
   "cell_type": "code",
   "execution_count": 4,
   "metadata": {
    "pycharm": {
     "name": "#%%\n"
    }
   },
   "outputs": [
    {
     "data": {
      "text/plain": "<Figure size 864x360 with 1 Axes>"
     },
     "execution_count": 4,
     "metadata": {},
     "output_type": "execute_result"
    },
    {
     "data": {
      "text/plain": "<Figure size 864x360 with 1 Axes>",
      "image/png": "[encoded data removed]"
     },
     "metadata": {
      "needs_background": "light"
     },
     "output_type": "display_data"
    }
   ],
   "source": [
    "vis.plot(PointCloud(x, bounds=Box(x=(-2, 12), y=(-1, 13))))"
   ]
  },
  {
   "cell_type": "markdown",
   "metadata": {
    "pycharm": {
     "name": "#%% md\n"
    }
   },
   "source": [
    "Next, let's give the planets initial velocities so that they circle the sun.\n",
    "For a nice plot, we pass the vector-valued velocities as the `values` of our `PointCloud`."
   ]
  },
  {
   "cell_type": "code",
   "execution_count": 5,
   "metadata": {
    "pycharm": {
     "name": "#%%\n"
    }
   },
   "outputs": [
    {
     "data": {
      "text/plain": "<Figure size 864x360 with 1 Axes>"
     },
     "execution_count": 5,
     "metadata": {},
     "output_type": "execute_result"
    },
    {
     "data": {
      "text/plain": "<Figure size 864x360 with 1 Axes>",
      "image/png": "[encoded data removed]"
     },
     "metadata": {
      "needs_background": "light"
     },
     "output_type": "display_data"
    }
   ],
   "source": [
    "v = math.rotate_vector(x, PI/2)\n",
    "v = math.divide_no_nan(v, math.vec_length(v))\n",
    "vis.plot(PointCloud(x, values=v, bounds=Box(x=(-2, 12), y=(-1, 13))))"
   ]
  },
  {
   "cell_type": "markdown",
   "metadata": {
    "pycharm": {
     "name": "#%% md\n"
    }
   },
   "source": [
    "Next, we define the masses of our planets which will determine the gravitational pull.\n",
    "These also allow us to make our plot prettier by passing a `Sphere` as the elements of the `PointCloud`."
   ]
  },
  {
   "cell_type": "code",
   "execution_count": 6,
   "metadata": {
    "pycharm": {
     "name": "#%%\n"
    }
   },
   "outputs": [
    {
     "data": {
      "text/plain": "<Figure size 864x360 with 1 Axes>"
     },
     "execution_count": 6,
     "metadata": {},
     "output_type": "execute_result"
    },
    {
     "data": {
      "text/plain": "<Figure size 864x360 with 1 Axes>",
      "image/png": "[encoded data removed]"
     },
     "metadata": {
      "needs_background": "light"
     },
     "output_type": "display_data"
    }
   ],
   "source": [
    "masses = math.stack({'Sun': 1000, 'Earth': 10, 'Mars': 10}, instance('planets'))\n",
    "vis.plot(PointCloud(Sphere(x, radius=masses**0.333 * .2), bounds=Box(x=(-2, 12), y=(-1, 13))))"
   ]
  },
  {
   "cell_type": "markdown",
   "metadata": {
    "pycharm": {
     "name": "#%% md\n"
    }
   },
   "source": [
    "To Simulate our system, we define a simple update step and run it repeatedly, collecting all intermediate states in the lists `xs` and `vs`.\n",
    "\n",
    "For the pair-wise distances between our planets, we use `math.rename_dims` to rename our *planets* dimension to *others*. Our previous tensors are constant along *others*  and the renamed tensor is constant along *planets*.\n",
    "When combining tensors with different dimensions in an operation, they will be reshaped automatically."
   ]
  },
  {
   "cell_type": "code",
   "execution_count": 7,
   "metadata": {
    "pycharm": {
     "name": "#%%\n"
    }
   },
   "outputs": [],
   "source": [
    "def simulate(x, v, dt=.5):\n",
    "    dx = x - math.rename_dims(x, 'planets', 'others')\n",
    "    a = - .01 * math.sum(math.divide_no_nan(math.rename_dims(masses, 'planets', 'others') * dx, math.vec_squared(dx) ** 1.5), 'others')\n",
    "    return x + v * dt, v + a * dt\n",
    "\n",
    "xs, vs = [x], [v]\n",
    "for i in range(100):\n",
    "    x, v = simulate(x, v)\n",
    "    xs.append(x)\n",
    "    vs.append(v)"
   ]
  },
  {
   "cell_type": "markdown",
   "metadata": {
    "pycharm": {
     "name": "#%% md\n"
    }
   },
   "source": [
    "Finally, let's plot the system trajectory as an animation!\n",
    "First, we need to define a dimension which will list our animation frames."
   ]
  },
  {
   "cell_type": "code",
   "execution_count": 8,
   "metadata": {
    "pycharm": {
     "name": "#%%\n"
    }
   },
   "outputs": [
    {
     "data": {
      "text/plain": "\u001B[92m(timeᵇ=101, planetsⁱ=Sun,Earth,Mars, vectorᶜ=x,y)\u001B[0m \u001B[94m-2.464 ± 7.704\u001B[0m \u001B[37m(-2e+01...1e+01)\u001B[0m"
     },
     "execution_count": 8,
     "metadata": {},
     "output_type": "execute_result"
    }
   ],
   "source": [
    "xs = math.stack(xs, batch('time'))\n",
    "vs = math.stack(vs, batch('time'))\n",
    "xs"
   ]
  },
  {
   "cell_type": "markdown",
   "metadata": {
    "pycharm": {
     "name": "#%% md\n"
    }
   },
   "source": [
    "Now we can specify this dimension via the `animate` argument.\n",
    "Using `vis.overlay` additionally allows us to plot multiple fields in one figure."
   ]
  },
  {
   "cell_type": "code",
   "execution_count": 9,
   "metadata": {
    "pycharm": {
     "name": "#%%\n"
    }
   },
   "outputs": [
    {
     "data": {
      "text/plain": "<matplotlib.animation.FuncAnimation at 0x232287a03a0>",
      "text/html": "<video width=\"864\" height=\"360\" controls autoplay loop>\n  <source type=\"video/mp4\" src=\"data:video/mp4;base64,AAAAIGZ0eXBNNFYgAAACAE00ViBpc29taXNvMmF2YzEAAAAIZnJlZQAAVZJtZGF0AAACrwYF//+r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\n\">\n  Your browser does not support the video tag.\n</video>"
     },
     "execution_count": 9,
     "metadata": {},
     "output_type": "execute_result"
    },
    {
     "data": {
      "text/plain": "<Figure size 432x288 with 0 Axes>"
     },
     "metadata": {},
     "output_type": "display_data"
    }
   ],
   "source": [
    "vis.plot(vis.overlay(\n",
    "    PointCloud(Sphere(xs, radius=masses ** 0.333 / 5), bounds=Box(x=(-20, 20), y=(-20, 20))),\n",
    "    PointCloud(xs, vs * 2, bounds=Box(x=(-20, 20), y=(-20, 20)))), animate='time', frame_time=100)"
   ]
  }
 ],
 "metadata": {
  "kernelspec": {
   "display_name": "Python 3",
   "language": "python",
   "name": "python3"
  },
  "language_info": {
   "codemirror_mode": {
    "name": "ipython",
    "version": 3
   },
   "file_extension": ".py",
   "mimetype": "text/x-python",
   "name": "python",
   "nbconvert_exporter": "python",
   "pygments_lexer": "ipython3",
   "version": "3.8.5"
  }
 },
 "nbformat": 4,
 "nbformat_minor": 1
}