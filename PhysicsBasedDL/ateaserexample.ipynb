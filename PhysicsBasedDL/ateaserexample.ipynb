{
 "cells": [
  {
   "cell_type": "markdown",
   "metadata": {},
   "source": [
    "# A Teaser Example"
   ]
  },
  {
   "cell_type": "code",
   "execution_count": 205,
   "metadata": {},
   "outputs": [
    {
     "name": "stderr",
     "output_type": "stream",
     "text": [
      "C:\\Users\\rouss\\AppData\\Local\\Temp\\ipykernel_20736\\4219119754.py:10: MatplotlibDeprecationWarning: The seaborn styles shipped by Matplotlib are deprecated since 3.6, as they no longer correspond to the styles shipped by seaborn. However, they will remain available as 'seaborn-v0_8-<style>'. Alternatively, directly use the seaborn API instead.\n",
      "  matplotlib.style.use('seaborn')\n"
     ]
    }
   ],
   "source": [
    "import numpy as np\n",
    "import jax\n",
    "import jax.numpy as jnp\n",
    "import flax.linen as nn\n",
    "from clu import parameter_overview\n",
    "import optax\n",
    "\n",
    "import matplotlib\n",
    "%matplotlib inline\n",
    "matplotlib.style.use('seaborn')\n",
    "import matplotlib.pyplot as plt"
   ]
  },
  {
   "cell_type": "markdown",
   "metadata": {},
   "source": [
    "## Supervised learning"
   ]
  },
  {
   "cell_type": "code",
   "execution_count": 206,
   "metadata": {},
   "outputs": [
    {
     "data": {
      "text/plain": [
       "(200, 1)"
      ]
     },
     "execution_count": 206,
     "metadata": {},
     "output_type": "execute_result"
    }
   ],
   "source": [
    "## X-data\n",
    "N = 200\n",
    "X = np.random.random((N,1))\n",
    "X.shape"
   ]
  },
  {
   "cell_type": "code",
   "execution_count": 207,
   "metadata": {},
   "outputs": [
    {
     "data": {
      "text/plain": [
       "(200,)"
      ]
     },
     "execution_count": 207,
     "metadata": {},
     "output_type": "execute_result"
    }
   ],
   "source": [
    "## Y data\n",
    "sign = (- np.ones((N,))) ** np.random.randint(2, size=N)\n",
    "Y = np.sqrt(X[:,0]) * sign\n",
    "Y.shape"
   ]
  },
  {
   "cell_type": "code",
   "execution_count": 208,
   "metadata": {},
   "outputs": [
    {
     "data": {
      "text/html": [
       "<pre style=\"white-space:pre;overflow-x:auto;line-height:normal;font-family:Menlo,'DejaVu Sans Mono',consolas,'Courier New',monospace\"><span style=\"font-style: italic\">                      NN Summary                       </span>\n",
       "┏━━━━━━━━━┳━━━━━━━━━━━━━━━━━━┳━━━━━━━━━━━━━━━━━━━━━━━━┓\n",
       "┃<span style=\"font-weight: bold\"> path    </span>┃<span style=\"font-weight: bold\"> outputs          </span>┃<span style=\"font-weight: bold\"> params                 </span>┃\n",
       "┡━━━━━━━━━╇━━━━━━━━━━━━━━━━━━╇━━━━━━━━━━━━━━━━━━━━━━━━┩\n",
       "│ Inputs  │ <span style=\"color: #7f7f7f; text-decoration-color: #7f7f7f\">float32</span>[10,2,1]  │                        │\n",
       "├─────────┼──────────────────┼────────────────────────┤\n",
       "│ Dense_0 │ <span style=\"color: #7f7f7f; text-decoration-color: #7f7f7f\">float32</span>[10,2,10] │ bias: <span style=\"color: #7f7f7f; text-decoration-color: #7f7f7f\">float32</span>[10]      │\n",
       "│         │                  │ kernel: <span style=\"color: #7f7f7f; text-decoration-color: #7f7f7f\">float32</span>[1,10]  │\n",
       "│         │                  │                        │\n",
       "│         │                  │ <span style=\"font-weight: bold\">20 </span><span style=\"color: #7f7f7f; text-decoration-color: #7f7f7f; font-weight: bold\">(80 B)</span>              │\n",
       "├─────────┼──────────────────┼────────────────────────┤\n",
       "│ Dense_1 │ <span style=\"color: #7f7f7f; text-decoration-color: #7f7f7f\">float32</span>[10,2,10] │ bias: <span style=\"color: #7f7f7f; text-decoration-color: #7f7f7f\">float32</span>[10]      │\n",
       "│         │                  │ kernel: <span style=\"color: #7f7f7f; text-decoration-color: #7f7f7f\">float32</span>[10,10] │\n",
       "│         │                  │                        │\n",
       "│         │                  │ <span style=\"font-weight: bold\">110 </span><span style=\"color: #7f7f7f; text-decoration-color: #7f7f7f; font-weight: bold\">(440 B)</span>            │\n",
       "├─────────┼──────────────────┼────────────────────────┤\n",
       "│ Dense_2 │ <span style=\"color: #7f7f7f; text-decoration-color: #7f7f7f\">float32</span>[10,2,1]  │ bias: <span style=\"color: #7f7f7f; text-decoration-color: #7f7f7f\">float32</span>[1]       │\n",
       "│         │                  │ kernel: <span style=\"color: #7f7f7f; text-decoration-color: #7f7f7f\">float32</span>[10,1]  │\n",
       "│         │                  │                        │\n",
       "│         │                  │ <span style=\"font-weight: bold\">11 </span><span style=\"color: #7f7f7f; text-decoration-color: #7f7f7f; font-weight: bold\">(44 B)</span>              │\n",
       "├─────────┼──────────────────┼────────────────────────┤\n",
       "│ NN      │ <span style=\"color: #7f7f7f; text-decoration-color: #7f7f7f\">float32</span>[10,2,1]  │                        │\n",
       "├─────────┼──────────────────┼────────────────────────┤\n",
       "│<span style=\"font-weight: bold\">         </span>│<span style=\"font-weight: bold\">            Total </span>│<span style=\"font-weight: bold\"> 141 </span><span style=\"color: #7f7f7f; text-decoration-color: #7f7f7f; font-weight: bold\">(564 B)</span><span style=\"font-weight: bold\">            </span>│\n",
       "└─────────┴──────────────────┴────────────────────────┘\n",
       "<span style=\"font-weight: bold\">                                                       </span>\n",
       "<span style=\"font-weight: bold\">             Total Parameters: 141 </span><span style=\"color: #7f7f7f; text-decoration-color: #7f7f7f; font-weight: bold\">(564 B)</span><span style=\"font-weight: bold\">             </span>\n",
       "</pre>\n"
      ],
      "text/plain": [
       "\u001b[3m                      NN Summary                       \u001b[0m\n",
       "┏━━━━━━━━━┳━━━━━━━━━━━━━━━━━━┳━━━━━━━━━━━━━━━━━━━━━━━━┓\n",
       "┃\u001b[1m \u001b[0m\u001b[1mpath   \u001b[0m\u001b[1m \u001b[0m┃\u001b[1m \u001b[0m\u001b[1moutputs         \u001b[0m\u001b[1m \u001b[0m┃\u001b[1m \u001b[0m\u001b[1mparams                \u001b[0m\u001b[1m \u001b[0m┃\n",
       "┡━━━━━━━━━╇━━━━━━━━━━━━━━━━━━╇━━━━━━━━━━━━━━━━━━━━━━━━┩\n",
       "│ Inputs  │ \u001b[2mfloat32\u001b[0m[10,2,1]  │                        │\n",
       "├─────────┼──────────────────┼────────────────────────┤\n",
       "│ Dense_0 │ \u001b[2mfloat32\u001b[0m[10,2,10] │ bias: \u001b[2mfloat32\u001b[0m[10]      │\n",
       "│         │                  │ kernel: \u001b[2mfloat32\u001b[0m[1,10]  │\n",
       "│         │                  │                        │\n",
       "│         │                  │ \u001b[1m20 \u001b[0m\u001b[1;2m(80 B)\u001b[0m              │\n",
       "├─────────┼──────────────────┼────────────────────────┤\n",
       "│ Dense_1 │ \u001b[2mfloat32\u001b[0m[10,2,10] │ bias: \u001b[2mfloat32\u001b[0m[10]      │\n",
       "│         │                  │ kernel: \u001b[2mfloat32\u001b[0m[10,10] │\n",
       "│         │                  │                        │\n",
       "│         │                  │ \u001b[1m110 \u001b[0m\u001b[1;2m(440 B)\u001b[0m            │\n",
       "├─────────┼──────────────────┼────────────────────────┤\n",
       "│ Dense_2 │ \u001b[2mfloat32\u001b[0m[10,2,1]  │ bias: \u001b[2mfloat32\u001b[0m[1]       │\n",
       "│         │                  │ kernel: \u001b[2mfloat32\u001b[0m[10,1]  │\n",
       "│         │                  │                        │\n",
       "│         │                  │ \u001b[1m11 \u001b[0m\u001b[1;2m(44 B)\u001b[0m              │\n",
       "├─────────┼──────────────────┼────────────────────────┤\n",
       "│ NN      │ \u001b[2mfloat32\u001b[0m[10,2,1]  │                        │\n",
       "├─────────┼──────────────────┼────────────────────────┤\n",
       "│\u001b[1m \u001b[0m\u001b[1m       \u001b[0m\u001b[1m \u001b[0m│\u001b[1m \u001b[0m\u001b[1m           Total\u001b[0m\u001b[1m \u001b[0m│\u001b[1m \u001b[0m\u001b[1m141 \u001b[0m\u001b[1;2m(564 B)\u001b[0m\u001b[1m           \u001b[0m\u001b[1m \u001b[0m│\n",
       "└─────────┴──────────────────┴────────────────────────┘\n",
       "\u001b[1m                                                       \u001b[0m\n",
       "\u001b[1m             Total Parameters: 141 \u001b[0m\u001b[1;2m(564 B)\u001b[0m\u001b[1m             \u001b[0m\n"
      ]
     },
     "metadata": {},
     "output_type": "display_data"
    },
    {
     "name": "stdout",
     "output_type": "stream",
     "text": [
      "\n",
      "\n",
      "\n"
     ]
    }
   ],
   "source": [
    "## Neural Net\n",
    "class NN(nn.Module):\n",
    "    @nn.compact\n",
    "    def __call__(self, x):\n",
    "        x = nn.Dense(features=10)(x)        ## Can be jitted with nn.jit\n",
    "        x = nn.relu(x)\n",
    "        x = nn.Dense(features=10)(x)\n",
    "        x = nn.relu(x)\n",
    "        x = nn.Dense(features=1)(x)\n",
    "        # x = nn.linear(x)\n",
    "        return x\n",
    "\n",
    "nn_sv = NN()\n",
    "key = jax.random.PRNGKey(0)\n",
    "init_data = jnp.ones((10, 2,1))\n",
    "params = nn_sv.init(key, init_data)\n",
    "print(nn_sv.tabulate(key, init_data))"
   ]
  },
  {
   "cell_type": "code",
   "execution_count": 209,
   "metadata": {},
   "outputs": [],
   "source": [
    "## Data generator\n",
    "def getbatchdata(X, Y, batch_size):\n",
    "    size = X.shape[0]\n",
    "    i = 0\n",
    "    while i < size:\n",
    "        inext = i + batch_size\n",
    "        if inext > size: inext = size\n",
    "        yield X[i:inext], Y[i:inext]\n",
    "        i = inext\n",
    "\n",
    "## Optimizer\n",
    "optimizer = optax.adam(learning_rate=1e-3)\n",
    "opt_state = optimizer.init(params=params)\n",
    "\n",
    "## Loss function\n",
    "# @jax.jit\n",
    "def mse(params, x, y):\n",
    "    ypred = nn_sv.apply(params, x).flatten()\n",
    "    loss = optax.l2_loss(ypred, y)\n",
    "    return jnp.mean(loss)"
   ]
  },
  {
   "cell_type": "code",
   "execution_count": 210,
   "metadata": {},
   "outputs": [],
   "source": [
    "## Parameter update step. Maximum jittable block \n",
    "@jax.jit\n",
    "def update_params(opt_state, params, x, y):\n",
    "    grads = jax.grad(mse)(params, x, y)\n",
    "    updates, opt_state = optimizer.update(grads, opt_state)\n",
    "    params = optax.apply_updates(params, updates)\n",
    "    return opt_state, params\n",
    "\n",
    "## Training loop\n",
    "Xvec = X.reshape(-1, 5, 1)\n",
    "Yvec = Y.reshape(-1, 5)\n",
    "for epoch in range(5):\n",
    "    for x, y in getbatchdata(X, Y, batch_size=5):\n",
    "        opt_state, params = update_params(opt_state, params, x, y)\n"
   ]
  },
  {
   "cell_type": "code",
   "execution_count": 211,
   "metadata": {},
   "outputs": [
    {
     "data": {
      "image/png": "[encoded data removed]",
      "text/plain": [
       "<Figure size 800x550 with 1 Axes>"
      ]
     },
     "metadata": {},
     "output_type": "display_data"
    }
   ],
   "source": [
    "# Results\n",
    "plt.plot(X, Y, '.', label='Data points', color=\"lightgray\")\n",
    "plt.plot(X, nn_sv.apply(params, X), '.', label='Supervised', color=\"red\")\n",
    "plt.xlabel('y')\n",
    "plt.ylabel('x')\n",
    "plt.title('Standard approach')\n",
    "plt.legend()\n",
    "plt.show()"
   ]
  },
  {
   "cell_type": "code",
   "execution_count": null,
   "metadata": {},
   "outputs": [],
   "source": []
  }
 ],
 "metadata": {
  "kernelspec": {
   "display_name": "Python 3.10.8 ('jaxenv')",
   "language": "python",
   "name": "python3"
  },
  "language_info": {
   "codemirror_mode": {
    "name": "ipython",
    "version": 3
   },
   "file_extension": ".py",
   "mimetype": "text/x-python",
   "name": "python",
   "nbconvert_exporter": "python",
   "pygments_lexer": "ipython3",
   "version": "3.9.7"
  },
  "orig_nbformat": 4,
  "vscode": {
   "interpreter": {
    "hash": "606f42aea5d3167327067fe384b22047a898fabc8686a65f262d49c6d30aabae"
   }
  }
 },
 "nbformat": 4,
 "nbformat_minor": 2
}
