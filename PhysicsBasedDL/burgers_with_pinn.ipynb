{
 "cells": [
  {
   "cell_type": "code",
   "execution_count": 136,
   "metadata": {},
   "outputs": [
    {
     "name": "stderr",
     "output_type": "stream",
     "text": [
      "2022-12-20 02:12:46.719530: W tensorflow/compiler/xla/stream_executor/platform/default/dso_loader.cc:64] Could not load dynamic library 'libnvinfer.so.7'; dlerror: libnvinfer.so.7: cannot open shared object file: No such file or directory\n",
      "2022-12-20 02:12:46.720147: W tensorflow/compiler/xla/stream_executor/platform/default/dso_loader.cc:64] Could not load dynamic library 'libnvinfer_plugin.so.7'; dlerror: libnvinfer_plugin.so.7: cannot open shared object file: No such file or directory\n",
      "2022-12-20 02:12:46.720167: W tensorflow/compiler/tf2tensorrt/utils/py_utils.cc:38] TF-TRT Warning: Cannot dlopen some TensorRT libraries. If you would like to use Nvidia GPU with TensorRT, please make sure the missing libraries mentioned above are installed properly.\n"
     ]
    }
   ],
   "source": [
    "%reset -f\n",
    "from phi.jax.flow import *\n",
    "from phi.jax.stax.flow import *\n",
    "# from phi.tf.flow import *\n",
    "import numpy as np\n",
    "import flax.linen as nn\n",
    "from flax.training import train_state, checkpoints\n",
    "import optax\n",
    "import os\n",
    "\n",
    "#rnd = TF_BACKEND # for phiflow: sample different points in the domain each iteration\n",
    "rnd = math.choose_backend(1) # use same random points for all iterations\n",
    "key = jax.random.PRNGKey(1)"
   ]
  },
  {
   "cell_type": "code",
   "execution_count": 137,
   "metadata": {},
   "outputs": [
    {
     "data": {
      "text/plain": [
       "(5, 5, 1, 1)"
      ]
     },
     "execution_count": 137,
     "metadata": {},
     "output_type": "execute_result"
    }
   ],
   "source": [
    "def network(x, t):\n",
    "    \"\"\" Dense neural network with 8 hidden layers and 3021 parameters in total.\n",
    "    \"\"\"\n",
    "    y = jnp.stack([x, t], axis=-1)\n",
    "    return dense_net(in_channels=2, out_channels=1, layers=[2]+[20]*8+[1], activation='ReLU', batch_norm=False)(y)\n",
    "\n",
    "## Small test\n",
    "x = jnp.zeros((5,5, 1))\n",
    "t = jnp.ones((5,5, 1))\n",
    "network(x, t).shape"
   ]
  },
  {
   "cell_type": "code",
   "execution_count": 138,
   "metadata": {},
   "outputs": [
    {
     "name": "stdout",
     "output_type": "stream",
     "text": [
      "\n",
      "\u001b[3m                             DenseNet Summary                              \u001b[0m\n",
      "┏━━━━━━━━━┳━━━━━━━━━━┳━━━━━━━━━━━━━┳━━━━━━━━━━━━━┳━━━━━━━━━━━━━━━━━━━━━━━━┓\n",
      "┃\u001b[1m \u001b[0m\u001b[1mpath   \u001b[0m\u001b[1m \u001b[0m┃\u001b[1m \u001b[0m\u001b[1mmodule  \u001b[0m\u001b[1m \u001b[0m┃\u001b[1m \u001b[0m\u001b[1minputs     \u001b[0m\u001b[1m \u001b[0m┃\u001b[1m \u001b[0m\u001b[1moutputs    \u001b[0m\u001b[1m \u001b[0m┃\u001b[1m \u001b[0m\u001b[1mparams                \u001b[0m\u001b[1m \u001b[0m┃\n",
      "┡━━━━━━━━━╇━━━━━━━━━━╇━━━━━━━━━━━━━╇━━━━━━━━━━━━━╇━━━━━━━━━━━━━━━━━━━━━━━━┩\n",
      "│         │ DenseNet │ - 1.0       │ \u001b[2mfloat32\u001b[0m[1]  │                        │\n",
      "│         │          │ - 0.0       │             │                        │\n",
      "├─────────┼──────────┼─────────────┼─────────────┼────────────────────────┤\n",
      "│ Dense_0 │ Dense    │ \u001b[2mfloat64\u001b[0m[2]  │ \u001b[2mfloat32\u001b[0m[2]  │ bias: \u001b[2mfloat32\u001b[0m[2]       │\n",
      "│         │          │             │             │ kernel: \u001b[2mfloat32\u001b[0m[2,2]   │\n",
      "│         │          │             │             │                        │\n",
      "│         │          │             │             │ \u001b[1m6 \u001b[0m\u001b[1;2m(24 B)\u001b[0m               │\n",
      "├─────────┼──────────┼─────────────┼─────────────┼────────────────────────┤\n",
      "│ Dense_1 │ Dense    │ \u001b[2mfloat32\u001b[0m[2]  │ \u001b[2mfloat32\u001b[0m[20] │ bias: \u001b[2mfloat32\u001b[0m[20]      │\n",
      "│         │          │             │             │ kernel: \u001b[2mfloat32\u001b[0m[2,20]  │\n",
      "│         │          │             │             │                        │\n",
      "│         │          │             │             │ \u001b[1m60 \u001b[0m\u001b[1;2m(240 B)\u001b[0m             │\n",
      "├─────────┼──────────┼─────────────┼─────────────┼────────────────────────┤\n",
      "│ Dense_2 │ Dense    │ \u001b[2mfloat32\u001b[0m[20] │ \u001b[2mfloat32\u001b[0m[20] │ bias: \u001b[2mfloat32\u001b[0m[20]      │\n",
      "│         │          │             │             │ kernel: \u001b[2mfloat32\u001b[0m[20,20] │\n",
      "│         │          │             │             │                        │\n",
      "│         │          │             │             │ \u001b[1m420 \u001b[0m\u001b[1;2m(1.7 KB)\u001b[0m           │\n",
      "├─────────┼──────────┼─────────────┼─────────────┼────────────────────────┤\n",
      "│ Dense_3 │ Dense    │ \u001b[2mfloat32\u001b[0m[20] │ \u001b[2mfloat32\u001b[0m[20] │ bias: \u001b[2mfloat32\u001b[0m[20]      │\n",
      "│         │          │             │             │ kernel: \u001b[2mfloat32\u001b[0m[20,20] │\n",
      "│         │          │             │             │                        │\n",
      "│         │          │             │             │ \u001b[1m420 \u001b[0m\u001b[1;2m(1.7 KB)\u001b[0m           │\n",
      "├─────────┼──────────┼─────────────┼─────────────┼────────────────────────┤\n",
      "│ Dense_4 │ Dense    │ \u001b[2mfloat32\u001b[0m[20] │ \u001b[2mfloat32\u001b[0m[20] │ bias: \u001b[2mfloat32\u001b[0m[20]      │\n",
      "│         │          │             │             │ kernel: \u001b[2mfloat32\u001b[0m[20,20] │\n",
      "│         │          │             │             │                        │\n",
      "│         │          │             │             │ \u001b[1m420 \u001b[0m\u001b[1;2m(1.7 KB)\u001b[0m           │\n",
      "├─────────┼──────────┼─────────────┼─────────────┼────────────────────────┤\n",
      "│ Dense_5 │ Dense    │ \u001b[2mfloat32\u001b[0m[20] │ \u001b[2mfloat32\u001b[0m[20] │ bias: \u001b[2mfloat32\u001b[0m[20]      │\n",
      "│         │          │             │             │ kernel: \u001b[2mfloat32\u001b[0m[20,20] │\n",
      "│         │          │             │             │                        │\n",
      "│         │          │             │             │ \u001b[1m420 \u001b[0m\u001b[1;2m(1.7 KB)\u001b[0m           │\n",
      "├─────────┼──────────┼─────────────┼─────────────┼────────────────────────┤\n",
      "│ Dense_6 │ Dense    │ \u001b[2mfloat32\u001b[0m[20] │ \u001b[2mfloat32\u001b[0m[20] │ bias: \u001b[2mfloat32\u001b[0m[20]      │\n",
      "│         │          │             │             │ kernel: \u001b[2mfloat32\u001b[0m[20,20] │\n",
      "│         │          │             │             │                        │\n",
      "│         │          │             │             │ \u001b[1m420 \u001b[0m\u001b[1;2m(1.7 KB)\u001b[0m           │\n",
      "├─────────┼──────────┼─────────────┼─────────────┼────────────────────────┤\n",
      "│ Dense_7 │ Dense    │ \u001b[2mfloat32\u001b[0m[20] │ \u001b[2mfloat32\u001b[0m[20] │ bias: \u001b[2mfloat32\u001b[0m[20]      │\n",
      "│         │          │             │             │ kernel: \u001b[2mfloat32\u001b[0m[20,20] │\n",
      "│         │          │             │             │                        │\n",
      "│         │          │             │             │ \u001b[1m420 \u001b[0m\u001b[1;2m(1.7 KB)\u001b[0m           │\n",
      "├─────────┼──────────┼─────────────┼─────────────┼────────────────────────┤\n",
      "│ Dense_8 │ Dense    │ \u001b[2mfloat32\u001b[0m[20] │ \u001b[2mfloat32\u001b[0m[20] │ bias: \u001b[2mfloat32\u001b[0m[20]      │\n",
      "│         │          │             │             │ kernel: \u001b[2mfloat32\u001b[0m[20,20] │\n",
      "│         │          │             │             │                        │\n",
      "│         │          │             │             │ \u001b[1m420 \u001b[0m\u001b[1;2m(1.7 KB)\u001b[0m           │\n",
      "├─────────┼──────────┼─────────────┼─────────────┼────────────────────────┤\n",
      "│ Dense_9 │ Dense    │ \u001b[2mfloat32\u001b[0m[20] │ \u001b[2mfloat32\u001b[0m[1]  │ bias: \u001b[2mfloat32\u001b[0m[1]       │\n",
      "│         │          │             │             │ kernel: \u001b[2mfloat32\u001b[0m[20,1]  │\n",
      "│         │          │             │             │                        │\n",
      "│         │          │             │             │ \u001b[1m21 \u001b[0m\u001b[1;2m(84 B)\u001b[0m              │\n",
      "├─────────┼──────────┼─────────────┼─────────────┼────────────────────────┤\n",
      "│\u001b[1m \u001b[0m\u001b[1m       \u001b[0m\u001b[1m \u001b[0m│\u001b[1m \u001b[0m\u001b[1m        \u001b[0m\u001b[1m \u001b[0m│\u001b[1m \u001b[0m\u001b[1m           \u001b[0m\u001b[1m \u001b[0m│\u001b[1m \u001b[0m\u001b[1m      Total\u001b[0m\u001b[1m \u001b[0m│\u001b[1m \u001b[0m\u001b[1m3,027 \u001b[0m\u001b[1;2m(12.1 KB)\u001b[0m\u001b[1m       \u001b[0m\u001b[1m \u001b[0m│\n",
      "└─────────┴──────────┴─────────────┴─────────────┴────────────────────────┘\n",
      "\u001b[1m                                                                           \u001b[0m\n",
      "\u001b[1m                     Total Parameters: 3,027 \u001b[0m\u001b[1;2m(12.1 KB)\u001b[0m\u001b[1m                     \u001b[0m\n",
      "\n",
      "\n"
     ]
    }
   ],
   "source": [
    "class DenseNet(nn.Module):\n",
    "    @nn.compact\n",
    "    def __call__(self, x, t):\n",
    "        inputs = jnp.stack([x, t], axis=-1)\n",
    "        y = nn.Dense(2)(inputs)\n",
    "        for i in range(0, 8):\n",
    "            y = nn.Dense(20)(y)\n",
    "            y = nn.relu(y)\n",
    "        return nn.Dense(1)(y)\n",
    "\n",
    "def init_flax_params(net:nn.Module):\n",
    "    # init_data = jnp.ones((1,)+net.input_shape)\n",
    "    init_data = 1., 0.\n",
    "    params = net.init(key, *init_data)\n",
    "    print(net.tabulate(key, *init_data, depth=8, console_kwargs={\"force_jupyter\":False}))\n",
    "    return params\n",
    "\n",
    "pinn = DenseNet()\n",
    "params = init_flax_params(pinn)"
   ]
  },
  {
   "cell_type": "code",
   "execution_count": 139,
   "metadata": {},
   "outputs": [],
   "source": [
    "def boundary_tx(N):     ## Basically optimal control: Strictly speaking, this is not needed !\n",
    "    x = np.linspace(-1,1,128)\n",
    "    # precomputed solution from forward simulation (available on the website: https://physicsbaseddeeplearning.org/physicalloss-code.html)\n",
    "    u = np.asarray( [0.008612174447657694, 0.02584669669548606, 0.043136357266407785, 0.060491074685516746, 0.07793926183951633, 0.0954779141740818, 0.11311894389663882, 0.1308497114054023, 0.14867023658641343, 0.1665634396808965, 0.18452263429574314, 0.20253084411376132, 0.22057828799835133, 0.23865132431365316, 0.25673879161339097, 0.27483167307082423, 0.2929182325574904, 0.3109944766354339, 0.3290477753208284, 0.34707880794585116, 0.36507311960102307, 0.38303584302507954, 0.40094962955534186, 0.4188235294008765, 0.4366357052408043, 0.45439856841363885, 0.4720845505219581, 0.4897081943759776, 0.5072391070000235, 0.5247011051514834, 0.542067187709797, 0.5593576751669057, 0.5765465453632126, 0.5936507311857876, 0.6106452944663003, 0.6275435911624945, 0.6443221318186165, 0.6609900633731869, 0.67752574922899, 0.6939334022562877, 0.7101938106059631, 0.7263049537163667, 0.7422506131457406, 0.7580207366534812, 0.7736033721649875, 0.7889776974379873, 0.8041371279965555, 0.8190465276590387, 0.8337064887158392, 0.8480617965162781, 0.8621229412131242, 0.8758057344502199, 0.8891341984763013, 0.9019806505391214, 0.9143881632159129, 0.9261597966464793, 0.9373647624856912, 0.9476871303793314, 0.9572273019669029, 0.9654367940878237, 0.9724097482283165, 0.9767381835635638, 0.9669484658390122, 0.659083299684951, -0.659083180712816, -0.9669485121167052, -0.9767382069792288, -0.9724097635533602, -0.9654367970450167, -0.9572273263645859, -0.9476871280825523, -0.9373647681120841, -0.9261598056102645, -0.9143881718456056, -0.9019807055316369, -0.8891341634240081, -0.8758057205293912, -0.8621229450911845, -0.8480618138204272, -0.833706571569058, -0.8190466131476127, -0.8041372124868691, -0.7889777195422356, -0.7736033858767385, -0.758020740007683, -0.7422507481169578, -0.7263049162371344, -0.7101938950789042, -0.6939334061553678, -0.677525822052029, -0.6609901538934517, -0.6443222327338847, -0.6275436932970322, -0.6106454472814152, -0.5936507836778451, -0.5765466491708988, -0.5593578078967361, -0.5420672759411125, -0.5247011730988912, -0.5072391580614087, -0.4897082914472909, -0.47208460952428394, -0.4543985995006753, -0.4366355580500639, -0.41882350871539187, -0.40094955631843376, -0.38303594105786365, -0.36507302109186685, -0.3470786936847069, -0.3290476440540586, -0.31099441589505206, -0.2929180880304103, -0.27483158663081614, -0.2567388003912687, -0.2386513127155433, -0.22057831776499126, -0.20253089403524566, -0.18452269630486776, -0.1665634500729787, -0.14867027528284874, -0.13084990929476334, -0.1131191325854089, -0.09547794429803691, -0.07793928430794522, -0.06049114408297565, -0.0431364527809777, -0.025846763281087953, -0.00861212501518312] );\n",
    "    t = jnp.ones_like(x) * 0.5\n",
    "    perm = np.random.permutation(128)\n",
    "    return (x[perm])[0:N], (t[perm])[0:N], (u[perm])[0:N]\n",
    "\n",
    "def _ALT_t0(N): # alternative, impose original initial state at t=0\n",
    "    x = rnd.random_uniform([N], -1, 1)\n",
    "    t = rnd.zeros_like(x)\n",
    "    u = - math.sin(np.pi * x)\n",
    "    return x, t, u\n",
    "\n",
    "def open_boundary(N):\n",
    "    t = jax.random.uniform(key, (N,), minval=-1, maxval=1, dtype=jnp.float32)\n",
    "    x = jnp.concatenate([jnp.zeros((N//2,)) + 1, jnp.zeros((N//2,)) - 1])\n",
    "    u = jnp.zeros([N])\n",
    "    return x, t, u\n",
    "\n",
    "    # t = rnd.random_uniform([N], 0, 1, dtype=math.DType(float, 32))\n",
    "    # shape = math.spatial(x=N//2)\n",
    "    # x = math.concat([math.zeros(shape) + 1, math.zeros(shape) - 1], dim=math.spatial('x'))\n",
    "    # u = math.zeros([N])\n",
    "    # return x, t, u"
   ]
  },
  {
   "cell_type": "code",
   "execution_count": 140,
   "metadata": {},
   "outputs": [],
   "source": [
    "def residual(u, x, t):\n",
    "    \"\"\" Physics-based loss function with Burgers equation \"\"\"\n",
    "    u_t = gradients(u, t)\n",
    "    u_x = gradients(u, x)\n",
    "    u_xx = gradients(u_x, x)\n",
    "    return u_t + u*u_x - (0.01 / np.pi) * u_xx"
   ]
  },
  {
   "cell_type": "code",
   "execution_count": 141,
   "metadata": {},
   "outputs": [
    {
     "data": {
      "text/plain": [
       "(1, 128, 33, 1)"
      ]
     },
     "execution_count": 141,
     "metadata": {},
     "output_type": "execute_result"
    }
   ],
   "source": [
    "N=128\n",
    "grids_xt = np.meshgrid(np.linspace(-1, 1, N), np.linspace(0, 1, 33), indexing='ij')\n",
    "grid_x, grid_t = [jnp.array(arr, dtype=jnp.float32) for arr in grids_xt]\n",
    "\n",
    "# create 4D tensor with batch and channel dimensions in addition to space and time\n",
    "# in this case gives shape=(1, N, 33, 1)\n",
    "grid_u = jnp.tile(network(grid_x, grid_t), (1,1,1,1))\n",
    "grid_u.shape"
   ]
  },
  {
   "cell_type": "code",
   "execution_count": 142,
   "metadata": {},
   "outputs": [
    {
     "name": "stdout",
     "output_type": "stream",
     "text": [
      "Size of grid_u: (1, 128, 33, 1)\n",
      "Randomly initialized network state:\n"
     ]
    },
    {
     "data": {
      "image/png": "[encoded data removed]",
      "text/plain": [
       "<Figure size 1600x500 with 2 Axes>"
      ]
     },
     "metadata": {},
     "output_type": "display_data"
    }
   ],
   "source": [
    "import pylab as plt\n",
    "print(\"Size of grid_u: \"+format(grid_u.shape))\n",
    "\n",
    "def show_state(a, title):\n",
    "    for i in range(4): a = np.concatenate( [a,a] , axis=3)\n",
    "    a = np.reshape( a, [a.shape[1],a.shape[2]*a.shape[3]] )\n",
    "    fig, axes = plt.subplots(1, 1, figsize=(16, 5))\n",
    "    im = axes.imshow(a, origin='upper', cmap='inferno')\n",
    "    plt.colorbar(im) ; plt.xlabel('time'); plt.ylabel('x'); plt.title(title)\n",
    "\n",
    "print(\"Randomly initialized network state:\")\n",
    "show_state(grid_u,\"Untrained NN\")"
   ]
  },
  {
   "cell_type": "code",
   "execution_count": 143,
   "metadata": {},
   "outputs": [],
   "source": [
    "# Boundary loss\n",
    "N_SAMPLE_POINTS_BND = 100\n",
    "x_bc, t_bc, u_bc = [jnp.concatenate([v_t0, v_t05]) for v_t0, v_t05 in zip(boundary_tx(N_SAMPLE_POINTS_BND), open_boundary(N_SAMPLE_POINTS_BND))]\n",
    "# x_bc, t_bc, u_bc = np.asarray(x_bc,dtype=np.float32), np.asarray(t_bc,dtype=np.float32) ,np.asarray(u_bc,dtype=np.float32)\n",
    "\n",
    "# loss_u = math.l2_loss(network(x_bc, t_bc)[:, 0] - u_bc) # normalizes by first dimension, N_bc\n",
    "\n",
    "# Physics loss inside of domain\n",
    "N_SAMPLE_POINTS_INNER = 1000\n",
    "x_ph, t_ph = jax.random.uniform(key, (N_SAMPLE_POINTS_INNER,), minval=-1, maxval=1), jax.random.uniform(key, (N_SAMPLE_POINTS_INNER,), minval=0, maxval=1)\n",
    "\n",
    "# loss_ph = math.l2_loss(residual(network(x_ph, t_ph)[:, 0], x_ph, t_ph)) # normalizes by first dimension,N_ph\n",
    "\n",
    "# Combine\n",
    "# loss = loss_u + 1.00*loss_ph # allows us to control the relative influence of loss_ph\n",
    "\n",
    "## Optimizer\n",
    "optimizer = optax.adam(learning_rate=0.02, b1=0.5, b2=0.999)"
   ]
  },
  {
   "cell_type": "code",
   "execution_count": 144,
   "metadata": {},
   "outputs": [],
   "source": [
    "def loss_fn(params, x_bc, t_bc, u_bc, x_ph, t_ph):\n",
    "    u_bc_pred = pinn.apply(params, x_bc, t_bc)[:, 0]\n",
    "    loss_u = math.l2_loss(u_bc_pred- u_bc)\n",
    "\n",
    "    u_ph_pred = pinn.apply(params, x_ph, t_ph)[:, 0]\n",
    "    loss_ph = math.l2_loss(residual(u_ph_pred, x_ph, t_ph))\n",
    "\n",
    "    loss = loss_u + 1.00*loss_ph\n",
    "    return jnp.mean(loss)\n",
    "\n",
    "state = train_state.TrainState.create(apply_fn=pinn.apply,\n",
    "                                        params=params,\n",
    "                                        tx=optimizer)"
   ]
  },
  {
   "cell_type": "code",
   "execution_count": 145,
   "metadata": {},
   "outputs": [
    {
     "name": "stdout",
     "output_type": "stream",
     "text": [
      "Training from scratch\n"
     ]
    },
    {
     "ename": "NameError",
     "evalue": "name 'gradients' is not defined",
     "output_type": "error",
     "traceback": [
      "\u001b[0;31m---------------------------------------------------------------------------\u001b[0m",
      "\u001b[0;31mNameError\u001b[0m                                 Traceback (most recent call last)",
      "Cell \u001b[0;32mIn[145], line 22\u001b[0m\n\u001b[1;32m     19\u001b[0m \u001b[39mprint\u001b[39m(\u001b[39m\"\u001b[39m\u001b[39mTraining from scratch\u001b[39m\u001b[39m\"\u001b[39m)\n\u001b[1;32m     20\u001b[0m \u001b[39mfor\u001b[39;00m epoch \u001b[39min\u001b[39;00m \u001b[39mrange\u001b[39m(\u001b[39m10000\u001b[39m):\n\u001b[1;32m     21\u001b[0m     \u001b[39m# net.train()       ##Set network into training mode\u001b[39;00m\n\u001b[0;32m---> 22\u001b[0m     state, loss \u001b[39m=\u001b[39m train_step(state, x_bc, t_bc, u_bc, x_ph, t_ph)\n\u001b[1;32m     23\u001b[0m     \u001b[39m# data for graph plotting\u001b[39;00m\n\u001b[1;32m     24\u001b[0m     history_loss\u001b[39m.\u001b[39mappend(loss)\n",
      "    \u001b[0;31m[... skipping hidden 11 frame]\u001b[0m\n",
      "Cell \u001b[0;32mIn[145], line 3\u001b[0m, in \u001b[0;36mtrain_step\u001b[0;34m(state, x_bc, t_bc, u_bc, x_ph, t_ph)\u001b[0m\n\u001b[1;32m      1\u001b[0m \u001b[39m@jax\u001b[39m\u001b[39m.\u001b[39mjit\n\u001b[1;32m      2\u001b[0m \u001b[39mdef\u001b[39;00m \u001b[39mtrain_step\u001b[39m(state, x_bc, t_bc, u_bc, x_ph, t_ph):\n\u001b[0;32m----> 3\u001b[0m     grads \u001b[39m=\u001b[39m jax\u001b[39m.\u001b[39;49mgrad(loss_fn)(state\u001b[39m.\u001b[39;49mparams, x_bc, t_bc, u_bc, x_ph, t_ph)\n\u001b[1;32m      4\u001b[0m     state \u001b[39m=\u001b[39m state\u001b[39m.\u001b[39mapply_gradients(grads\u001b[39m=\u001b[39mgrads)\n\u001b[1;32m      5\u001b[0m     loss \u001b[39m=\u001b[39m loss_fn(state\u001b[39m.\u001b[39mparams, x_bc, t_bc, u_bc, x_ph, t_ph)\n",
      "    \u001b[0;31m[... skipping hidden 10 frame]\u001b[0m\n",
      "Cell \u001b[0;32mIn[144], line 6\u001b[0m, in \u001b[0;36mloss_fn\u001b[0;34m(params, x_bc, t_bc, u_bc, x_ph, t_ph)\u001b[0m\n\u001b[1;32m      3\u001b[0m loss_u \u001b[39m=\u001b[39m math\u001b[39m.\u001b[39ml2_loss(u_bc_pred\u001b[39m-\u001b[39m u_bc)\n\u001b[1;32m      5\u001b[0m u_ph_pred \u001b[39m=\u001b[39m pinn\u001b[39m.\u001b[39mapply(params, x_ph, t_ph)[:, \u001b[39m0\u001b[39m]\n\u001b[0;32m----> 6\u001b[0m loss_ph \u001b[39m=\u001b[39m math\u001b[39m.\u001b[39ml2_loss(residual(u_ph_pred, x_ph, t_ph))\n\u001b[1;32m      8\u001b[0m loss \u001b[39m=\u001b[39m loss_u \u001b[39m+\u001b[39m \u001b[39m1.00\u001b[39m\u001b[39m*\u001b[39mloss_ph\n\u001b[1;32m      9\u001b[0m \u001b[39mreturn\u001b[39;00m jnp\u001b[39m.\u001b[39mmean(loss)\n",
      "Cell \u001b[0;32mIn[140], line 3\u001b[0m, in \u001b[0;36mresidual\u001b[0;34m(u, x, t)\u001b[0m\n\u001b[1;32m      1\u001b[0m \u001b[39mdef\u001b[39;00m \u001b[39mresidual\u001b[39m(u, x, t):\n\u001b[1;32m      2\u001b[0m     \u001b[39m\"\"\" Physics-based loss function with Burgers equation \"\"\"\u001b[39;00m\n\u001b[0;32m----> 3\u001b[0m     u_t \u001b[39m=\u001b[39m gradients(u, t)\n\u001b[1;32m      4\u001b[0m     u_x \u001b[39m=\u001b[39m gradients(u, x)\n\u001b[1;32m      5\u001b[0m     u_xx \u001b[39m=\u001b[39m gradients(u_x, x)\n",
      "\u001b[0;31mNameError\u001b[0m: name 'gradients' is not defined"
     ]
    }
   ],
   "source": [
    "@jax.jit\n",
    "def train_step(state, x_bc, t_bc, u_bc, x_ph, t_ph):\n",
    "    grads = jax.grad(loss_fn)(state.params, x_bc, t_bc, u_bc, x_ph, t_ph)\n",
    "    state = state.apply_gradients(grads=grads)\n",
    "    loss = loss_fn(state.params, x_bc, t_bc, u_bc, x_ph, t_ph)\n",
    "    return state, loss\n",
    "\n",
    "@jax.jit\n",
    "def val_step(state, inputs, targets):\n",
    "    loss = loss_fn(state.params, inputs, targets)\n",
    "    return state, loss\n",
    "\n",
    "history_loss = []\n",
    "\n",
    "if os.path.isfile(\"./temp/pinn_checkpoint_\"+str(state.step)):\n",
    "    print(\"Found existing network, loading & skipping training\")\n",
    "    state = checkpoints.restore_checkpoint(ckpt_dir=\"./temp/\", prefix=\"net_checkpoint_\", target=state)\n",
    "else:\n",
    "    print(\"Training from scratch\")\n",
    "    for epoch in range(10000):\n",
    "        # net.train()       ##Set network into training mode\n",
    "        state, loss = train_step(state, x_bc, t_bc, u_bc, x_ph, t_ph)\n",
    "        # data for graph plotting\n",
    "        history_loss.append(loss)\n",
    "\n",
    "        if epoch%20==0:\n",
    "            print( \"Epoch: {} , L2 train: {:7.5f}\".format(epoch, loss) )\n",
    "\n",
    "checkpoints.save_checkpoint(\"./temp/\", prefix=\"pinn_checkpoint_\", target=state, step=state.step, overwrite=True)\n",
    "print(\"Training done, saved network\")"
   ]
  }
 ],
 "metadata": {
  "kernelspec": {
   "display_name": "jaxenv",
   "language": "python",
   "name": "python3"
  },
  "language_info": {
   "codemirror_mode": {
    "name": "ipython",
    "version": 3
   },
   "file_extension": ".py",
   "mimetype": "text/x-python",
   "name": "python",
   "nbconvert_exporter": "python",
   "pygments_lexer": "ipython3",
   "version": "3.9.15"
  },
  "orig_nbformat": 4,
  "vscode": {
   "interpreter": {
    "hash": "075710b6f5b19458306a4e9822ddfe61641ef7cace85254f009959072a1d7749"
   }
  }
 },
 "nbformat": 4,
 "nbformat_minor": 2
}
